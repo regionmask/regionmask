{
 "cells": [
  {
   "cell_type": "code",
   "execution_count": null,
   "metadata": {},
   "outputs": [],
   "source": [
    "import cartopy.crs as ccrs\n",
    "import matplotlib.pyplot as plt\n",
    "import numpy as np\n",
    "import regionmask\n",
    "import seaborn as sns\n",
    "\n",
    "import mplotutils as mpu"
   ]
  },
  {
   "cell_type": "code",
   "execution_count": null,
   "metadata": {},
   "outputs": [],
   "source": [
    "import cartopy\n",
    "\n",
    "cartopy.__version__"
   ]
  },
  {
   "cell_type": "code",
   "execution_count": null,
   "metadata": {},
   "outputs": [],
   "source": [
    "%matplotlib inline"
   ]
  },
  {
   "cell_type": "code",
   "execution_count": null,
   "metadata": {},
   "outputs": [],
   "source": [
    "# [['CH', 'D', 'A', 'I', 'F']]\n",
    "CH = regionmask.defined_regions.natural_earth.countries_50\n",
    "\n",
    "delta = 0.5\n",
    "\n",
    "lon = np.arange(4.5, 13 + delta, delta)\n",
    "lat = np.arange(41, 49.0 + delta, delta)\n",
    "\n",
    "mask = CH.mask(lon, lat)"
   ]
  },
  {
   "cell_type": "code",
   "execution_count": null,
   "metadata": {},
   "outputs": [],
   "source": [
    "lon"
   ]
  },
  {
   "cell_type": "code",
   "execution_count": null,
   "metadata": {},
   "outputs": [],
   "source": [
    "mask_3D = CH.mask_3D(lon, lat)\n",
    "\n",
    "mask_3D"
   ]
  },
  {
   "cell_type": "code",
   "execution_count": null,
   "metadata": {},
   "outputs": [],
   "source": [
    "uq = np.unique(mask)\n",
    "uq = uq[~np.isnan(uq)]\n",
    "\n",
    "for i, d in enumerate(uq):\n",
    "    mask.values[mask.values == d] = i"
   ]
  },
  {
   "cell_type": "code",
   "execution_count": null,
   "metadata": {},
   "outputs": [],
   "source": [
    "np.unique(mask)"
   ]
  },
  {
   "cell_type": "code",
   "execution_count": null,
   "metadata": {},
   "outputs": [],
   "source": [
    "import cartopy.feature as cfeature\n",
    "import matplotlib.gridspec as gridspec"
   ]
  },
  {
   "cell_type": "code",
   "execution_count": null,
   "metadata": {},
   "outputs": [],
   "source": [
    "colors = [\n",
    "    \"#0b713b\",  # CH\n",
    "    \"#edf8b2\",  # I\n",
    "    \"#79c679\",  # DE\n",
    "    \"#bce395\",  # FR\n",
    "    \"#004529\",  # AT\n",
    "]"
   ]
  },
  {
   "cell_type": "code",
   "execution_count": null,
   "metadata": {
    "scrolled": true
   },
   "outputs": [],
   "source": [
    "def plot():\n",
    "\n",
    "    f, axes = plt.subplots(1, 2, subplot_kw=dict(projection=ccrs.PlateCarree()))\n",
    "\n",
    "    ax = axes[0]\n",
    "    CH.plot(\n",
    "        ax=ax,\n",
    "        add_label=False,\n",
    "        coastlines=False,\n",
    "        resolution=\"50m\",\n",
    "        line_kws=dict(lw=0.5),\n",
    "        add_ocean=True,\n",
    "    )\n",
    "\n",
    "    levels = np.arange(-0.5, 4.6, 1)\n",
    "    # AXIS 1\n",
    "    ax = axes[1]\n",
    "    mask.plot(\n",
    "        ax=ax,\n",
    "        levels=levels,\n",
    "        add_colorbar=False,\n",
    "        transform=ccrs.PlateCarree(),\n",
    "        edgecolor=\"0.25\",\n",
    "        lw=0.05,\n",
    "        colors=colors,\n",
    "    )\n",
    "\n",
    "    bounds = [5.26, 13.24, 43.26, 48.74]\n",
    "    axes[0].set_extent(bounds, ccrs.PlateCarree())\n",
    "    axes[1].set_extent(bounds, ccrs.PlateCarree())\n",
    "\n",
    "    # title\n",
    "    axes[0].set_title(\"region\", fontsize=35)\n",
    "    axes[1].set_title(\"mask\", fontsize=35)\n",
    "\n",
    "    h = 0.025\n",
    "    f.subplots_adjust(wspace=h * 2.5, left=h, right=1 - h, bottom=0.04, top=0.80)\n",
    "\n",
    "    mpu.set_map_layout(axes, width=15)\n",
    "\n",
    "\n",
    "plot()\n",
    "plt.savefig(\"logo.png\", dpi=150)  # , facecolor=\"none\")"
   ]
  },
  {
   "cell_type": "markdown",
   "metadata": {},
   "source": [
    "### Create favicon\n",
    "\n",
    "further converted from png -> ico with an online converter"
   ]
  },
  {
   "cell_type": "code",
   "execution_count": null,
   "metadata": {},
   "outputs": [],
   "source": [
    "f, ax = plt.subplots(1, 1, subplot_kw=dict(projection=ccrs.PlateCarree()))\n",
    "\n",
    "f.set_size_inches(1, 1)\n",
    "\n",
    "levels = np.arange(-0.5, 4.6, 1)\n",
    "mask.plot(\n",
    "    ax=ax,\n",
    "    levels=levels,\n",
    "    add_colorbar=False,\n",
    "    transform=ccrs.PlateCarree(),\n",
    "    colors=colors,\n",
    ")\n",
    "\n",
    "bounds = [5.26, 13.24, 41.26, 49.24]\n",
    "ax.set_extent(bounds, ccrs.PlateCarree())\n",
    "\n",
    "f.subplots_adjust(left=0, right=1, bottom=0, top=1)\n",
    "\n",
    "ax.outline_patch.set_visible(False)\n",
    "\n",
    "plt.savefig(\"favicon.png\", dpi=512)"
   ]
  }
 ],
 "metadata": {
  "kernelspec": {
   "display_name": "Python 3",
   "language": "python",
   "name": "python3"
  },
  "language_info": {
   "codemirror_mode": {
    "name": "ipython",
    "version": 3
   },
   "file_extension": ".py",
   "mimetype": "text/x-python",
   "name": "python",
   "nbconvert_exporter": "python",
   "pygments_lexer": "ipython3",
   "version": "3.7.8"
  }
 },
 "nbformat": 4,
 "nbformat_minor": 1
}
