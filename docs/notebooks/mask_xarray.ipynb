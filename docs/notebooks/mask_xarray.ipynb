{
 "cells": [
  {
   "cell_type": "code",
   "execution_count": null,
   "metadata": {},
   "outputs": [],
   "source": [
    "%matplotlib inline\n",
    "%config InlineBackend.figure_format = \"retina\"\n",
    "\n",
    "from matplotlib import rcParams\n",
    "rcParams[\"savefig.dpi\"] = 200\n",
    "rcParams[\"font.size\"] = 8\n",
    "\n",
    "import warnings\n",
    "warnings.filterwarnings('ignore')"
   ]
  },
  {
   "cell_type": "markdown",
   "metadata": {},
   "source": [
    "# Create xarray region mask\n",
    "\n",
    "In this tutorial we will show how to create a mask for arbitrary latitude and longitude grids using xarray. It is very similar to the tutorial Create Mask (numpy)."
   ]
  },
  {
   "cell_type": "markdown",
   "metadata": {},
   "source": [
    "Import regionmask and check the version:"
   ]
  },
  {
   "cell_type": "code",
   "execution_count": null,
   "metadata": {},
   "outputs": [],
   "source": [
    "import regionmask\n",
    "regionmask.__version__"
   ]
  },
  {
   "cell_type": "markdown",
   "metadata": {},
   "source": [
    "Load xarray and the tutorial data:"
   ]
  },
  {
   "cell_type": "code",
   "execution_count": null,
   "metadata": {},
   "outputs": [],
   "source": [
    "import xarray as xr\n",
    "import numpy as np"
   ]
  },
  {
   "cell_type": "code",
   "execution_count": null,
   "metadata": {},
   "outputs": [],
   "source": [
    "airtemps = xr.tutorial.load_dataset('air_temperature')"
   ]
  },
  {
   "cell_type": "markdown",
   "metadata": {},
   "source": [
    "The example data is a temperature field over North America. Let's plot the first time step:"
   ]
  },
  {
   "cell_type": "code",
   "execution_count": null,
   "metadata": {},
   "outputs": [],
   "source": [
    "# load plotting libraries\n",
    "import matplotlib.pyplot as plt\n",
    "import cartopy.crs as ccrs\n",
    "\n",
    "# choose a good projection for regional maps\n",
    "proj=ccrs.LambertConformal(central_longitude=-100)\n",
    "\n",
    "ax = plt.subplot(111, projection=proj)\n",
    "\n",
    "airtemps.isel(time=1).air.plot.pcolormesh(ax=ax, transform=ccrs.PlateCarree())\n",
    "\n",
    "ax.coastlines();"
   ]
  },
  {
   "cell_type": "markdown",
   "metadata": {},
   "source": [
    "Conviniently we can directly pass an xarray object to the `mask` function. It gets the longitude and latitude from the DataArray/ Dataset and creates the `mask`. If the longituda and latitude in the xarray object are not called `lon` and `lat`, respectively; you can pass their name via the `lon_name` and `lat_name` keyword. Here we use the Giorgi regions.\n",
    "\n",
    "The extent of the grid and the regions is not the same:"
   ]
  },
  {
   "cell_type": "code",
   "execution_count": null,
   "metadata": {},
   "outputs": [],
   "source": [
    "lon = airtemps.lon\n",
    "print(\"Grid extent:    \", lon.values.min(), lon.values.max())\n",
    "\n",
    "bounds = regionmask.defined_regions.giorgi.bounds_global\n",
    "print(\"Region extent: \", bounds[0], bounds[2])"
   ]
  },
  {
   "cell_type": "raw",
   "metadata": {},
   "source": [
    ".. note:: From version 0.5 ``regionmask`` automatically detects wether the longitude needs to be wrapped around, i.e. if the regions extend from -180° E to 180° W, while the grid goes from 0° to 360° W."
   ]
  },
  {
   "cell_type": "code",
   "execution_count": null,
   "metadata": {},
   "outputs": [],
   "source": [
    "mask = regionmask.defined_regions.giorgi.mask(airtemps)"
   ]
  },
  {
   "cell_type": "markdown",
   "metadata": {},
   "source": [
    "This did not work in earlier versions. We had to set `wrap_lon=True`."
   ]
  },
  {
   "cell_type": "markdown",
   "metadata": {},
   "source": [
    "Let's plot the mask of the regions:"
   ]
  },
  {
   "cell_type": "code",
   "execution_count": null,
   "metadata": {},
   "outputs": [],
   "source": [
    "proj=ccrs.LambertConformal(central_longitude=-100)\n",
    "ax = plt.subplot(111, projection=proj)\n",
    "\n",
    "low = mask.min()\n",
    "high = mask.max()\n",
    "\n",
    "levels = np.arange(low - 0.5, high + 1)\n",
    "\n",
    "h = mask.plot.pcolormesh(ax=ax, transform=ccrs.PlateCarree(), levels=levels, add_colorbar=False)\n",
    "\n",
    "# for colorbar: find abbreviations of all regions that were selected\n",
    "reg = np.unique(mask.values)\n",
    "reg = reg[~np.isnan(reg)]\n",
    "abbrevs = regionmask.defined_regions.giorgi[reg].abbrevs\n",
    "\n",
    "cbar = plt.colorbar(h, orientation=\"horizontal\", fraction=0.075, pad=0.05)\n",
    "\n",
    "cbar.set_ticks(reg)\n",
    "cbar.set_ticklabels(abbrevs)\n",
    "cbar.set_label(\"Region\")\n",
    "\n",
    "ax.coastlines()\n",
    "\n",
    "# fine tune the extent\n",
    "ax.set_extent([200, 330, 10, 75], crs=ccrs.PlateCarree());"
   ]
  },
  {
   "cell_type": "markdown",
   "metadata": {},
   "source": [
    "We want to select the region 'Central North America'. Thus we first need to find out which number this is:"
   ]
  },
  {
   "cell_type": "code",
   "execution_count": null,
   "metadata": {},
   "outputs": [],
   "source": [
    "regionmask.defined_regions.giorgi.map_keys('Central North America')"
   ]
  },
  {
   "cell_type": "markdown",
   "metadata": {},
   "source": [
    "## Select using `where`"
   ]
  },
  {
   "cell_type": "markdown",
   "metadata": {},
   "source": [
    "`xarray` provides the handy `where` function:"
   ]
  },
  {
   "cell_type": "code",
   "execution_count": null,
   "metadata": {},
   "outputs": [],
   "source": [
    "airtemps_CNA = airtemps.where(mask == 6)"
   ]
  },
  {
   "cell_type": "markdown",
   "metadata": {},
   "source": [
    "Check everything went well by repeating the first plot with the selected region:"
   ]
  },
  {
   "cell_type": "code",
   "execution_count": null,
   "metadata": {},
   "outputs": [],
   "source": [
    "# choose a good projection for regional maps\n",
    "proj=ccrs.LambertConformal(central_longitude=-100)\n",
    "\n",
    "ax = plt.subplot(111, projection=proj)\n",
    "\n",
    "airtemps_CNA.isel(time=1).air.plot.pcolormesh(ax=ax, transform=ccrs.PlateCarree())\n",
    "\n",
    "ax.coastlines();"
   ]
  },
  {
   "cell_type": "markdown",
   "metadata": {},
   "source": [
    "Looks good - let's take the area average and plot the time series. (Note: you should use `cos(lat)` weights to correctly calculate an area average. Unfortunately this is not yet (as of version 0.13) implemented in xarray.) "
   ]
  },
  {
   "cell_type": "code",
   "execution_count": null,
   "metadata": {},
   "outputs": [],
   "source": [
    "ts_airtemps_CNA = airtemps_CNA.mean(dim=('lat', 'lon')) - 273.15\n",
    "ts_airtemps = airtemps.mean(dim=('lat', 'lon')) - 273.15\n",
    "\n",
    "# and the line plot\n",
    "f, ax = plt.subplots()\n",
    "ts_airtemps_CNA.air.plot.line(ax=ax, label='Central North America')\n",
    "ts_airtemps.air.plot(ax=ax, label='Entire Domain')\n",
    "\n",
    "plt.legend(ncol=2);"
   ]
  },
  {
   "cell_type": "markdown",
   "metadata": {
    "collapsed": true
   },
   "source": [
    "## Select using `groupby`"
   ]
  },
  {
   "cell_type": "code",
   "execution_count": null,
   "metadata": {},
   "outputs": [],
   "source": [
    "# you can group over all integer values of the mask\n",
    "# you have to take the mean over `stacked_lat_lon`\n",
    "airtemps_all = airtemps.groupby(mask).mean('stacked_lat_lon')"
   ]
  },
  {
   "cell_type": "markdown",
   "metadata": {},
   "source": [
    "we can add the abbreviations and names of the regions to the DataArray"
   ]
  },
  {
   "cell_type": "code",
   "execution_count": null,
   "metadata": {},
   "outputs": [],
   "source": [
    "# extract the abbreviations and the names of the regions from regionmask\n",
    "abbrevs = regionmask.defined_regions.giorgi[airtemps_all.region.values].abbrevs\n",
    "names = regionmask.defined_regions.giorgi[airtemps_all.region.values].names\n",
    "\n",
    "airtemps_all.coords['abbrevs'] = ('region', abbrevs)\n",
    "airtemps_all.coords['names'] = ('region', names)"
   ]
  },
  {
   "cell_type": "code",
   "execution_count": null,
   "metadata": {},
   "outputs": [],
   "source": [
    "airtemps_all"
   ]
  },
  {
   "cell_type": "markdown",
   "metadata": {},
   "source": [
    "now we can select the regions in many ways"
   ]
  },
  {
   "cell_type": "code",
   "execution_count": null,
   "metadata": {},
   "outputs": [],
   "source": [
    "# as before, by the index of the region\n",
    "r1 = airtemps_all.sel(region=6).air\n",
    "\n",
    "# with the abbreviation\n",
    "r2 = airtemps_all.isel(region=(airtemps_all.abbrevs == 'WNA')).air.squeeze()\n",
    "\n",
    "# with the long name\n",
    "r3 = airtemps_all.isel(region=(airtemps_all.names == 'Eastern North America')).air.squeeze()\n",
    "\n",
    "regs = [r1, r2, r3]"
   ]
  },
  {
   "cell_type": "markdown",
   "metadata": {},
   "source": [
    "Now, let's plot the three selected regions:"
   ]
  },
  {
   "cell_type": "code",
   "execution_count": null,
   "metadata": {},
   "outputs": [],
   "source": [
    "f, axes = plt.subplots(3, 1, sharex=True)\n",
    "\n",
    "for i, reg in enumerate(regs):\n",
    "    ax = axes[i]\n",
    "    reg.plot(ax=ax)\n",
    "    ax.set_title(reg.names.values)\n",
    "\n",
    "plt.setp(axes, xlabel=\"\")\n",
    "\n",
    "f.tight_layout()"
   ]
  },
  {
   "cell_type": "code",
   "execution_count": null,
   "metadata": {},
   "outputs": [],
   "source": []
  }
 ],
 "metadata": {
  "kernelspec": {
   "display_name": "Python 3",
   "language": "python",
   "name": "python3"
  },
  "language_info": {
   "codemirror_mode": {
    "name": "ipython",
    "version": 3
   },
   "file_extension": ".py",
   "mimetype": "text/x-python",
   "name": "python",
   "nbconvert_exporter": "python",
   "pygments_lexer": "ipython3",
   "version": "3.7.3"
  }
 },
 "nbformat": 4,
 "nbformat_minor": 1
}
