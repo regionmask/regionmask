{
 "cells": [
  {
   "cell_type": "code",
   "execution_count": null,
   "metadata": {},
   "outputs": [],
   "source": [
    "%matplotlib inline\n",
    "%config InlineBackend.figure_format = \"retina\"\n",
    "\n",
    "from matplotlib import rcParams\n",
    "rcParams[\"savefig.dpi\"] = 300\n",
    "rcParams['figure.dpi'] = 300\n",
    "\n",
    "rcParams[\"font.size\"] = 8\n",
    "\n",
    "import warnings\n",
    "warnings.filterwarnings('ignore')"
   ]
  },
  {
   "cell_type": "markdown",
   "metadata": {},
   "source": [
    "# Edge behavior and interiors\n",
    "\n",
    "This notebook illustrates the edge behavior and how Polygon interiors are treated.\n"
   ]
  },
  {
   "cell_type": "raw",
   "metadata": {},
   "source": [
    ".. note:: From version 0.5 ``regionmask`` treats points on the region borders differently and also considers poygon interiors (holes), e.g. the Caspian Sea in ``natural_earth.land_110`` region."
   ]
  },
  {
   "cell_type": "markdown",
   "metadata": {},
   "source": [
    "## Preparation\n",
    "\n",
    "Import regionmask and check the version:"
   ]
  },
  {
   "cell_type": "code",
   "execution_count": null,
   "metadata": {},
   "outputs": [],
   "source": [
    "import regionmask\n",
    "regionmask.__version__"
   ]
  },
  {
   "cell_type": "markdown",
   "metadata": {},
   "source": [
    "Other imports"
   ]
  },
  {
   "cell_type": "code",
   "execution_count": null,
   "metadata": {},
   "outputs": [],
   "source": [
    "import xarray as xr\n",
    "import numpy as np\n",
    "\n",
    "import cartopy.crs as ccrs\n",
    "import matplotlib.pyplot as plt\n",
    "\n",
    "from matplotlib import colors as mplc\n",
    "from shapely.geometry import Polygon"
   ]
  },
  {
   "cell_type": "markdown",
   "metadata": {},
   "source": [
    "Define some colors:"
   ]
  },
  {
   "cell_type": "code",
   "execution_count": null,
   "metadata": {},
   "outputs": [],
   "source": [
    "cmap1 = mplc.ListedColormap(['#9ecae1'])\n",
    "cmap2 = mplc.ListedColormap(['#fc9272'])\n",
    "cmap3 = mplc.ListedColormap(['#cab2d6'])"
   ]
  },
  {
   "cell_type": "markdown",
   "metadata": {},
   "source": [
    "## Methods\n",
    "\n",
    "Regionmask offers three methods to rasterize regions\n",
    "\n",
    "1. `rasterize`: fastest but only for equally-spaced grid, uses `rasterio.features.rasterize` internally.\n",
    "2. `shapely`: for irregular grids, uses `shapely.vectorized.contains` internally.\n",
    "3. `legacy`: old method (deprecated), slowest and with inconsistent edge behaviour\n",
    "\n",
    "All methods use the `lon` and `lat` coordinates to determine if a grid cell is in a region. `lon` and `lat` are assumed to indicate the *center* of the grid cell. Methods (1) and (2) have the same edge behavior and consider 'holes' in the regions. Method (3) is deprecated and will be removed in a future version. `regionmask` automatically determines which `method` to use.\n",
    "\n",
    "(2) subtracts a tiny offset from `lon` and `lat` to achieve a edge behaviour consistent with (1). Due to [mapbox/rasterio/#1844](https://github.com/mapbox/rasterio/issues/1844) this is unfortunately also necessary for (1)."
   ]
  },
  {
   "cell_type": "markdown",
   "metadata": {},
   "source": [
    "## Edge behavior\n",
    "\n",
    "As of version 0.5 `regionmask` has a new edge behavior - points that fall of the outline of a region are now consistently treated. This was not the case in earlier versions (xref [matplotlib/matplotlib#9704](https://github.com/matplotlib/matplotlib/issues/9704)). It's easiest to see the edge behaviour in an\n",
    "\n",
    "### Example\n",
    "\n",
    "Define a region and a lon/ lat grid, such that some gridpoints lie exactly on the border:"
   ]
  },
  {
   "cell_type": "code",
   "execution_count": null,
   "metadata": {},
   "outputs": [],
   "source": [
    "outline = np.array([[ -80., 50.],\n",
    "                    [ -80., 28.],\n",
    "                    [-100., 28.],\n",
    "                    [-100., 50.]])\n",
    "\n",
    "region = regionmask.Regions([outline])"
   ]
  },
  {
   "cell_type": "code",
   "execution_count": null,
   "metadata": {},
   "outputs": [],
   "source": [
    "ds_US = regionmask.core.utils.create_lon_lat_dataarray_from_bounds(\n",
    "    *(-161, -29, 2),\n",
    "    *(75, 13, -2)\n",
    ")\n",
    "\n",
    "print(ds_US)"
   ]
  },
  {
   "cell_type": "markdown",
   "metadata": {},
   "source": [
    "\n",
    "\n",
    "Let's create a mask with each of these methods:"
   ]
  },
  {
   "cell_type": "code",
   "execution_count": null,
   "metadata": {},
   "outputs": [],
   "source": [
    "mask_rasterize = region.mask(ds_US, method=\"rasterize\")\n",
    "mask_shapely = region.mask(ds_US, method=\"shapely\")\n",
    "mask_legacy = region.mask(ds_US, method=\"legacy\")"
   ]
  },
  {
   "cell_type": "raw",
   "metadata": {},
   "source": [
    ".. note:: ``regionmask`` automatically detects which method to use, so there is no need to specify the ``method`` keyword."
   ]
  },
  {
   "cell_type": "markdown",
   "metadata": {},
   "source": [
    "Plot the masked regions:"
   ]
  },
  {
   "cell_type": "code",
   "execution_count": null,
   "metadata": {},
   "outputs": [],
   "source": [
    "f, axes = plt.subplots(1, 3, subplot_kw=dict(projection=ccrs.PlateCarree()))\n",
    "    \n",
    "opt = dict(add_colorbar=False, ec=\"0.5\", lw=0.5)    \n",
    "\n",
    "mask_rasterize.plot(ax=axes[0], cmap=cmap1, **opt)\n",
    "mask_shapely.plot(ax=axes[1], cmap=cmap2, **opt)\n",
    "mask_legacy.plot(ax=axes[2], cmap=cmap3, **opt)\n",
    "\n",
    "\n",
    "for ax in axes:\n",
    "    ax = region.plot_regions(ax=ax, add_label=False)\n",
    "    ax.set_extent([-105, -75, 25, 55], ccrs.PlateCarree())\n",
    "    ax.coastlines(lw=0.5)\n",
    "    \n",
    "    ax.plot(ds_US.LON, ds_US.lat, \"*\", color=\"0.5\", ms=0.5, transform=ccrs.PlateCarree())\n",
    "\n",
    "axes[0].set_title('rasterize')\n",
    "axes[1].set_title('shapely')\n",
    "axes[2].set_title('legacy');"
   ]
  },
  {
   "cell_type": "markdown",
   "metadata": {},
   "source": [
    "Points indicate the grid cell centers (`lon` and `lat`), lines the grid cell borders, colored grid cells are selected to be part of the region. The top and right grid cells now belong to the region while the left and bottom grid cells do not. This choice is arbitrary but mimicks what `rasterio.features.rasterize` does. This can avoid spurios columns of unassigned grid poins as the following example shows.\n",
    "\n",
    "### SREX regions\n",
    "\n",
    "Create a global dataset:"
   ]
  },
  {
   "cell_type": "code",
   "execution_count": null,
   "metadata": {},
   "outputs": [],
   "source": [
    "ds_GLOB = regionmask.core.utils.create_lon_lat_dataarray_from_bounds(\n",
    "    *(-180, 181, 2),\n",
    "    *(90, -91, -2)\n",
    ")"
   ]
  },
  {
   "cell_type": "code",
   "execution_count": null,
   "metadata": {},
   "outputs": [],
   "source": [
    "srex = regionmask.defined_regions.srex\n",
    "\n",
    "srex_new = srex.mask(ds_GLOB)\n",
    "srex_old = srex.mask(ds_GLOB, method=\"legacy\")"
   ]
  },
  {
   "cell_type": "code",
   "execution_count": null,
   "metadata": {},
   "outputs": [],
   "source": [
    "f, axes = plt.subplots(1, 2, subplot_kw=dict(projection=ccrs.PlateCarree()))\n",
    "    \n",
    "opt = dict(add_colorbar=False, cmap=\"viridis_r\")    \n",
    "\n",
    "srex_new.plot(ax=axes[0], **opt)\n",
    "srex_old.plot(ax=axes[1], **opt)\n",
    "\n",
    "for ax in axes:\n",
    "    srex.plot_regions(ax=ax, add_label=False, line_kws=dict(lw=0.5))\n",
    "    ax.set_extent([-150, -50, 15, 75], ccrs.PlateCarree())   \n",
    "    ax.coastlines(resolution=\"50m\", lw=0.25)\n",
    "\n",
    "axes[0].set_title('new (rasterize + shapely)')\n",
    "axes[1].set_title('legacy');   "
   ]
  },
  {
   "cell_type": "markdown",
   "metadata": {},
   "source": [
    "## Polygon interiors\n",
    "\n",
    "`Polygons` can have interior boundaries ('holes'). Previously these were not considered and e.g. the Caspian Sea was not 'unmasked'.\n",
    "\n",
    "### Example\n",
    "\n",
    "Let's test this on an example and define a `region_with_hole`:\n"
   ]
  },
  {
   "cell_type": "code",
   "execution_count": null,
   "metadata": {},
   "outputs": [],
   "source": [
    "interior = np.array([[ -86., 44.],\n",
    "                     [ -86., 34.],\n",
    "                     [ -94., 34.],\n",
    "                     [ -94., 44.],\n",
    "                     [ -86., 44.],\n",
    "                    ])\n",
    "\n",
    "poly = Polygon(outline, [interior])\n",
    "\n",
    "region_with_hole = regionmask.Regions([poly])"
   ]
  },
  {
   "cell_type": "code",
   "execution_count": null,
   "metadata": {},
   "outputs": [],
   "source": [
    "mask_hole_rasterize = region_with_hole.mask(ds_US, method=\"rasterize\")\n",
    "mask_hole_shapely = region_with_hole.mask(ds_US, method=\"shapely\")\n",
    "mask_hole_legacy = region_with_hole.mask(ds_US, method=\"legacy\")"
   ]
  },
  {
   "cell_type": "code",
   "execution_count": null,
   "metadata": {},
   "outputs": [],
   "source": [
    "f, axes = plt.subplots(1, 3, subplot_kw=dict(projection=ccrs.PlateCarree()))\n",
    "    \n",
    "opt = dict(add_colorbar=False, ec=\"0.5\", lw=0.5)    \n",
    "\n",
    "mask_hole_rasterize.plot(ax=axes[0], cmap=cmap1, **opt)\n",
    "mask_hole_shapely.plot(ax=axes[1], cmap=cmap2, **opt)\n",
    "mask_hole_legacy.plot(ax=axes[2], cmap=cmap3, **opt)\n",
    "\n",
    "for ax in axes:\n",
    "    region.plot_regions(ax=ax, add_label=False)\n",
    "    \n",
    "    # interiors are not (yet) ploted by default\n",
    "    ax.plot(*interior.T, color=\"k\")\n",
    "    \n",
    "    ax.set_extent([-105, -75, 25, 55], ccrs.PlateCarree())\n",
    "    ax.coastlines(lw=0.5)\n",
    "    \n",
    "    ax.plot(ds_US.LON, ds_US.lat, \".\", color=\"0.5\", ms=0.5, transform=ccrs.PlateCarree())\n",
    "\n",
    "axes[0].set_title('rasterize')\n",
    "axes[1].set_title('shapely')\n",
    "axes[2].set_title('legacy');"
   ]
  },
  {
   "cell_type": "markdown",
   "metadata": {},
   "source": [
    "###  Caspian Sea"
   ]
  },
  {
   "cell_type": "code",
   "execution_count": null,
   "metadata": {},
   "outputs": [],
   "source": [
    "land110 = regionmask.defined_regions.natural_earth.land_110\n",
    "\n",
    "land_new = land110.mask(ds_GLOB)\n",
    "land_old = land110.mask(ds_GLOB, method=\"legacy\")"
   ]
  },
  {
   "cell_type": "code",
   "execution_count": null,
   "metadata": {},
   "outputs": [],
   "source": [
    "f, axes = plt.subplots(1, 2, subplot_kw=dict(projection=ccrs.PlateCarree()))\n",
    "    \n",
    "opt = dict(add_colorbar=False)    \n",
    "\n",
    "land_new.plot(ax=axes[0], cmap=cmap2, **opt)\n",
    "land_old.plot(ax=axes[1], cmap=cmap3, **opt)\n",
    "\n",
    "for ax in axes:\n",
    "   \n",
    "    ax.set_extent([15, 75, 15, 55], ccrs.PlateCarree())\n",
    "    ax.coastlines(resolution=\"50m\", lw=0.5)\n",
    "    \n",
    "    ax.plot(ds_GLOB.LON, ds_GLOB.lat, \".\", color=\"0.5\", ms=0.5, transform=ccrs.PlateCarree())\n",
    "\n",
    "axes[0].set_title('new (rasterize + shapely)')\n",
    "axes[1].set_title('legacy');    "
   ]
  },
  {
   "cell_type": "markdown",
   "metadata": {},
   "source": [
    "## Speedup\n",
    "\n",
    "The new methods are faster than the old one:"
   ]
  },
  {
   "cell_type": "code",
   "execution_count": null,
   "metadata": {},
   "outputs": [],
   "source": [
    "print(\"Method: rasterize\")\n",
    "%timeit -n 10 region.mask(ds_US, method=\"rasterize\")\n",
    "print(\"Method: shapely\")\n",
    "%timeit -n 10 region.mask(ds_US, method=\"shapely\")\n",
    "print(\"Method: legacy\")\n",
    "%timeit -n 10 region.mask(ds_US, method=\"legacy\")"
   ]
  },
  {
   "cell_type": "markdown",
   "metadata": {},
   "source": [
    "While there is not a big difference for this simple example, the difference gets larger for more complex geometries and more gridpoints:"
   ]
  },
  {
   "cell_type": "code",
   "execution_count": null,
   "metadata": {},
   "outputs": [],
   "source": [
    "ds_GLOB = regionmask.core.utils.create_lon_lat_dataarray_from_bounds(*(-180, 181, 2), *(90, -91, -2))\n",
    "\n",
    "countries_110 = regionmask.defined_regions.natural_earth.countries_110\n",
    "\n",
    "print(\"Method: rasterize\")\n",
    "%timeit -n 1 countries_110.mask(ds_GLOB, method=\"rasterize\")\n",
    "print(\"Method: shapely\")\n",
    "%timeit -n 1  countries_110.mask(ds_GLOB, method=\"shapely\")\n",
    "print(\"Method: legacy\")\n",
    "%timeit -n 1  countries_110.mask(ds_GLOB, method=\"legacy\")"
   ]
  },
  {
   "cell_type": "code",
   "execution_count": null,
   "metadata": {},
   "outputs": [],
   "source": []
  }
 ],
 "metadata": {
  "kernelspec": {
   "display_name": "Python 3",
   "language": "python",
   "name": "python3"
  },
  "language_info": {
   "codemirror_mode": {
    "name": "ipython",
    "version": 3
   },
   "file_extension": ".py",
   "mimetype": "text/x-python",
   "name": "python",
   "nbconvert_exporter": "python",
   "pygments_lexer": "ipython3",
   "version": "3.7.3"
  }
 },
 "nbformat": 4,
 "nbformat_minor": 1
}
