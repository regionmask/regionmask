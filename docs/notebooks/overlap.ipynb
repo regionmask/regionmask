{
 "cells": [
  {
   "cell_type": "code",
   "execution_count": null,
   "metadata": {},
   "outputs": [],
   "source": [
    "%matplotlib inline\n",
    "%config InlineBackend.figure_format = \"retina\"\n",
    "\n",
    "from matplotlib import rcParams\n",
    "\n",
    "rcParams[\"savefig.dpi\"] = 150\n",
    "rcParams[\"figure.dpi\"] = 150\n",
    "\n",
    "rcParams[\"font.size\"] = 8\n",
    "\n",
    "import warnings\n",
    "\n",
    "warnings.filterwarnings(\"ignore\")"
   ]
  },
  {
   "cell_type": "markdown",
   "metadata": {},
   "source": [
    "# Overlapping regions\n",
    "\n",
    "Two or more on regions can share the same area - they overlap, as for example region 3 and 4 of the [PRUDENCE regions](../defined_scientific.html#prudence-regions) This notebook illustrates how overlapping regions can be treated in regionmask."
   ]
  },
  {
   "cell_type": "markdown",
   "metadata": {},
   "source": [
    "## In short"
   ]
  },
  {
   "cell_type": "raw",
   "metadata": {},
   "source": [
    ".. warning::\n",
    "   Per default regionmask assumes regions are *not* overlapping!"
   ]
  },
  {
   "cell_type": "markdown",
   "metadata": {},
   "source": [
    "Thus, when creating your own `Regions` you need to tell regionmask if they are overlapping.\n",
    "\n",
    "```python\n",
    "region = regionmask.Regions(..., overlap=True)\n",
    "region = regionmask.from_geopandas(..., overlap=True)\n",
    "```"
   ]
  },
  {
   "cell_type": "markdown",
   "metadata": {},
   "source": [
    "If you have two overlapping regions and `overlap=False` regionmask will _silently_ assign the gridpoints of the overlapping regions to the one with the higher number, e.g., region 4 for PRUDENCE (this may change in a future version).\n",
    "\n",
    "Note that `overlap` is correctly defined in `regionmask.defined_regions`."
   ]
  },
  {
   "cell_type": "markdown",
   "metadata": {},
   "source": [
    "## Example\n",
    "\n",
    "To illustrate the problem we construct two regions in North America that partially overlap. One is horizontal, the other vertical.\n",
    "\n",
    "**Preparation**\n",
    "\n",
    "Import regionmask and check the version:"
   ]
  },
  {
   "cell_type": "code",
   "execution_count": null,
   "metadata": {},
   "outputs": [],
   "source": [
    "import regionmask\n",
    "\n",
    "regionmask.__version__"
   ]
  },
  {
   "cell_type": "markdown",
   "metadata": {},
   "source": [
    "Other imports"
   ]
  },
  {
   "cell_type": "code",
   "execution_count": null,
   "metadata": {},
   "outputs": [],
   "source": [
    "import xarray as xr\n",
    "import numpy as np\n",
    "\n",
    "import cartopy.crs as ccrs\n",
    "import matplotlib.pyplot as plt\n",
    "\n",
    "from matplotlib import colors as mplc\n",
    "from shapely.geometry import Polygon\n",
    "\n",
    "import matplotlib.patheffects as pe"
   ]
  },
  {
   "cell_type": "markdown",
   "metadata": {},
   "source": [
    "Define some colors:"
   ]
  },
  {
   "cell_type": "code",
   "execution_count": null,
   "metadata": {},
   "outputs": [],
   "source": [
    "cmap = mplc.ListedColormap([\"none\", \"#9ecae1\"])"
   ]
  },
  {
   "cell_type": "markdown",
   "metadata": {},
   "source": [
    "Define helper function:"
   ]
  },
  {
   "cell_type": "code",
   "execution_count": null,
   "metadata": {},
   "outputs": [],
   "source": [
    "def plot_region_vh(mask):\n",
    "\n",
    "    fg = mask.plot(\n",
    "        subplot_kws=dict(projection=ccrs.PlateCarree()),\n",
    "        col=\"region\",\n",
    "        cmap=cmap,\n",
    "        add_colorbar=False,\n",
    "        transform=ccrs.PlateCarree(),\n",
    "        ec=\"0.5\",\n",
    "        lw=0.25,\n",
    "    )\n",
    "\n",
    "    for ax in fg.axes.flatten():\n",
    "        region_vh[[0]].plot(ax=ax, add_label=False, line_kws=dict(color=\"#6a3d9a\"))\n",
    "        region_vh[[1]].plot(ax=ax, add_label=False, line_kws=dict(color=\"#ff7f00\"))\n",
    "\n",
    "        ax.set_extent([-105, -75, 25, 55], ccrs.PlateCarree())\n",
    "        ax.plot(\n",
    "            ds_US.LON, ds_US.lat, \"*\", color=\"0.5\", ms=0.5, transform=ccrs.PlateCarree()\n",
    "        )"
   ]
  },
  {
   "cell_type": "markdown",
   "metadata": {},
   "source": [
    "Define the polygons:"
   ]
  },
  {
   "cell_type": "code",
   "execution_count": null,
   "metadata": {},
   "outputs": [],
   "source": [
    "coords_v = np.array([[-90.0, 50.0], [-90.0, 28.0], [-100.0, 28.0], [-100.0, 50.0]])\n",
    "coords_h = np.array([[-80.0, 50.0], [-80.0, 40.0], [-100.0, 40.0], [-100.0, 50.0]])"
   ]
  },
  {
   "cell_type": "markdown",
   "metadata": {},
   "source": [
    "### Default behavior (`overlap=False`)\n",
    "\n",
    "Fe first test what happens if we keep the default value of `overlap=False`:"
   ]
  },
  {
   "cell_type": "code",
   "execution_count": null,
   "metadata": {},
   "outputs": [],
   "source": [
    "region_vh = regionmask.Regions([coords_v, coords_h])"
   ]
  },
  {
   "cell_type": "markdown",
   "metadata": {},
   "source": [
    "Create a mask"
   ]
  },
  {
   "cell_type": "code",
   "execution_count": null,
   "metadata": {},
   "outputs": [],
   "source": [
    "ds_US = regionmask.core.utils.create_lon_lat_dataarray_from_bounds(\n",
    "    *(-160, -29, 2), *(76, 13, -2)\n",
    ")\n",
    "\n",
    "mask_vh = region_vh.mask_3D(ds_US)"
   ]
  },
  {
   "cell_type": "markdown",
   "metadata": {},
   "source": [
    "Plot the masked regions:"
   ]
  },
  {
   "cell_type": "code",
   "execution_count": null,
   "metadata": {},
   "outputs": [],
   "source": [
    "plot_region_vh(mask_vh)"
   ]
  },
  {
   "cell_type": "markdown",
   "metadata": {},
   "source": [
    "The small gray points show the gridpoint center and the vertical and horizontal lines are the gridpoint boundaries. The colored rectangles are the two regions. The vertical region has the number 1 and the horizontal region the number 2.\n",
    "We can see that only the gridpoints in the lower part of the vertical (magenta) region were assigned to it. All gridpoints of the overlapping part are now assigned to the horizontal (orange) region. As mentioned the gridpoints are assigned to the region with the higher number By switching the order of the regions you could have the common gridpoints assigned to the vertical region."
   ]
  },
  {
   "cell_type": "markdown",
   "metadata": {},
   "source": [
    "### Setting `overlap=True`\n",
    "\n",
    "As mentioned regionmask assumes regions are not overlapping, so you need to pass `overlap=True` to the constructor:"
   ]
  },
  {
   "cell_type": "code",
   "execution_count": null,
   "metadata": {},
   "outputs": [],
   "source": [
    "region_overlap = regionmask.Regions([coords_v, coords_h], overlap=True)\n",
    "\n",
    "region_overlap"
   ]
  },
  {
   "cell_type": "markdown",
   "metadata": {},
   "source": [
    "Now it says `overlap:  True` - and we can again create a mask:"
   ]
  },
  {
   "cell_type": "code",
   "execution_count": null,
   "metadata": {},
   "outputs": [],
   "source": [
    "mask_overlap = region_overlap.mask_3D(ds_US)"
   ]
  },
  {
   "cell_type": "markdown",
   "metadata": {},
   "source": [
    "and plot it"
   ]
  },
  {
   "cell_type": "code",
   "execution_count": null,
   "metadata": {},
   "outputs": [],
   "source": [
    "plot_region_vh(mask_overlap)"
   ]
  },
  {
   "cell_type": "markdown",
   "metadata": {},
   "source": [
    "Now the gridpoints in the overlapping part are assigned to both regions."
   ]
  },
  {
   "cell_type": "markdown",
   "metadata": {},
   "source": [
    "## PRUDENCE regions\n",
    "\n",
    "The PRUDENCE regions are a real-world example of overlapping areas. The prudence regions already set `overlap=True`."
   ]
  },
  {
   "cell_type": "code",
   "execution_count": null,
   "metadata": {},
   "outputs": [],
   "source": [
    "prudence = regionmask.defined_regions.prudence\n",
    "prudence"
   ]
  },
  {
   "cell_type": "markdown",
   "metadata": {},
   "source": [
    "Regions 3 and 4 overlap in Western France:"
   ]
  },
  {
   "cell_type": "code",
   "execution_count": null,
   "metadata": {},
   "outputs": [],
   "source": [
    "proj = ccrs.LambertConformal(central_longitude=10)\n",
    "\n",
    "text_kws = dict(\n",
    "    bbox=dict(color=\"none\"),\n",
    "    path_effects=[pe.withStroke(linewidth=3, foreground=\"w\")],\n",
    "    color=\"#67000d\",\n",
    ")\n",
    "\n",
    "ax = prudence.plot(\n",
    "    projection=proj, text_kws=text_kws, resolution=\"50m\", line_kws=dict(lw=0.75)\n",
    ")\n",
    "\n",
    "\n",
    "ax.set_extent([-10.0, 30.0, 40.0, 55.0], ccrs.PlateCarree())"
   ]
  },
  {
   "cell_type": "markdown",
   "metadata": {},
   "source": [
    "### Create mask of PRUDENCE regions"
   ]
  },
  {
   "cell_type": "code",
   "execution_count": null,
   "metadata": {},
   "outputs": [],
   "source": [
    "lon = np.arange(-12, 33, 0.5)\n",
    "lat = np.arange(72, 33, -0.5)\n",
    "\n",
    "mask_prudence = prudence.mask_3D(lon, lat)"
   ]
  },
  {
   "cell_type": "code",
   "execution_count": null,
   "metadata": {},
   "outputs": [],
   "source": [
    "proj = ccrs.LambertConformal(central_longitude=10)\n",
    "\n",
    "fg = mask_prudence.sel(region=[3, 4]).plot(\n",
    "    subplot_kws=dict(projection=proj),\n",
    "    col=\"region\",\n",
    "    cmap=cmap,\n",
    "    add_colorbar=False,\n",
    "    transform=ccrs.PlateCarree(),\n",
    ")\n",
    "\n",
    "\n",
    "for ax in fg.axes.flatten():\n",
    "    regionmask.defined_regions.prudence.plot(\n",
    "        ax=ax, add_label=False, resolution=\"50m\", line_kws=dict(lw=0.75)\n",
    "    )"
   ]
  },
  {
   "cell_type": "markdown",
   "metadata": {},
   "source": [
    "As above the gridpoints below the overlapping part is now assigned to both regions."
   ]
  }
 ],
 "metadata": {
  "kernelspec": {
   "display_name": "Python 3 (ipykernel)",
   "language": "python",
   "name": "python3"
  },
  "language_info": {
   "codemirror_mode": {
    "name": "ipython",
    "version": 3
   },
   "file_extension": ".py",
   "mimetype": "text/x-python",
   "name": "python",
   "nbconvert_exporter": "python",
   "pygments_lexer": "ipython3",
   "version": "3.10.2"
  }
 },
 "nbformat": 4,
 "nbformat_minor": 1
}
