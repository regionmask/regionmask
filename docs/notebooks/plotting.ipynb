{
 "cells": [
  {
   "cell_type": "code",
   "execution_count": null,
   "metadata": {},
   "outputs": [],
   "source": [
    "%matplotlib inline\n",
    "%config InlineBackend.figure_format = \"retina\"\n",
    "\n",
    "from matplotlib import rcParams\n",
    "rcParams[\"savefig.dpi\"] = 200\n",
    "rcParams[\"font.size\"] = 8\n",
    "\n",
    "import warnings\n",
    "warnings.filterwarnings('ignore')"
   ]
  },
  {
   "cell_type": "markdown",
   "metadata": {},
   "source": [
    "# Plotting\n",
    "\n",
    "Every region has a plotting function, that draws the outline of all (or selected) regions on a cartopy map. We use the predefined SREX regions as example."
   ]
  },
  {
   "cell_type": "markdown",
   "metadata": {},
   "source": [
    "Import regionmask and check the version:"
   ]
  },
  {
   "cell_type": "code",
   "execution_count": null,
   "metadata": {},
   "outputs": [],
   "source": [
    "import regionmask\n",
    "regionmask.__version__"
   ]
  },
  {
   "cell_type": "markdown",
   "metadata": {},
   "source": [
    "## Plot all regions\n",
    "\n",
    "Do the default plot."
   ]
  },
  {
   "cell_type": "code",
   "execution_count": null,
   "metadata": {},
   "outputs": [],
   "source": [
    "regionmask.defined_regions.srex.plot();"
   ]
  },
  {
   "cell_type": "markdown",
   "metadata": {},
   "source": [
    "## Plot only a Subset of Regions"
   ]
  },
  {
   "cell_type": "code",
   "execution_count": null,
   "metadata": {},
   "outputs": [],
   "source": [
    "# load cartopy\n",
    "import cartopy.crs as ccrs\n",
    "\n",
    "# regions can be selected by number, abbreviation or long name\n",
    "regions = [11, 'CEU', 'S. Europe/Mediterranean']\n",
    "\n",
    "# choose a good projection for regional maps\n",
    "proj = ccrs.LambertConformal(central_longitude=15)\n",
    "\n",
    "# do the plot\n",
    "ax = regionmask.defined_regions.srex.plot(regions=regions, add_ocean=False, resolution='50m',\n",
    "                                          proj=proj, label='abbrev')\n",
    "\n",
    "# fine tune the extent\n",
    "ax.set_extent([-15, 45, 28, 76], crs=ccrs.PlateCarree())"
   ]
  },
  {
   "cell_type": "markdown",
   "metadata": {},
   "source": [
    "## Plotting the region outlines only (no map)"
   ]
  },
  {
   "cell_type": "code",
   "execution_count": null,
   "metadata": {},
   "outputs": [],
   "source": [
    "regionmask.defined_regions.srex.plot_regions();"
   ]
  },
  {
   "cell_type": "raw",
   "metadata": {},
   "source": [
    ".. note:: This does *not* create a cartopy axes."
   ]
  },
  {
   "cell_type": "markdown",
   "metadata": {},
   "source": [
    "To achieve this, you need to explicitely create the axes: "
   ]
  },
  {
   "cell_type": "code",
   "execution_count": null,
   "metadata": {},
   "outputs": [],
   "source": [
    "import matplotlib.pyplot as plt\n",
    "\n",
    "f, ax = plt.subplots(subplot_kw=dict(projection=ccrs.PlateCarree()))\n",
    "\n",
    "regionmask.defined_regions.srex.plot_regions(ax=ax, line_kws=dict(lw=1));"
   ]
  },
  {
   "cell_type": "code",
   "execution_count": null,
   "metadata": {},
   "outputs": [],
   "source": []
  }
 ],
 "metadata": {
  "kernelspec": {
   "display_name": "Python 3",
   "language": "python",
   "name": "python3"
  },
  "language_info": {
   "codemirror_mode": {
    "name": "ipython",
    "version": 3
   },
   "file_extension": ".py",
   "mimetype": "text/x-python",
   "name": "python",
   "nbconvert_exporter": "python",
   "pygments_lexer": "ipython3",
   "version": "3.7.3"
  }
 },
 "nbformat": 4,
 "nbformat_minor": 1
}
