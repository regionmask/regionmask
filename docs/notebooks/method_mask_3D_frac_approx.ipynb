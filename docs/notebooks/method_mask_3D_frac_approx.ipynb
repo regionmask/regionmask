{
 "cells": [
  {
   "cell_type": "code",
   "execution_count": null,
   "metadata": {},
   "outputs": [],
   "source": [
    "# :suppress:\n",
    "\n",
    "from matplotlib import rcParams\n",
    "\n",
    "rcParams[\"figure.dpi\"] = 300\n",
    "rcParams[\"font.size\"] = 13\n",
    "\n",
    "import warnings\n",
    "\n",
    "warnings.filterwarnings(\"ignore\")\n"
   ]
  },
  {
   "cell_type": "markdown",
   "metadata": {},
   "source": [
    "# 3D approximate fractional overlap\n",
    "\n",
    "This notebook illustrates how the approximate fractional overlap is computed."
   ]
  },
  {
   "cell_type": "markdown",
   "metadata": {},
   "source": [
    "## Preparation\n",
    "\n",
    "Import libraries and check the regionmask version:"
   ]
  },
  {
   "cell_type": "code",
   "execution_count": null,
   "metadata": {},
   "outputs": [],
   "source": [
    "import cartopy.crs as ccrs\n",
    "import matplotlib.pyplot as plt\n",
    "import numpy as np\n",
    "import shapely\n",
    "\n",
    "import regionmask\n",
    "\n",
    "regionmask.__version__\n"
   ]
  },
  {
   "cell_type": "markdown",
   "metadata": {},
   "source": [
    "## Method\n",
    "\n",
    "To estimate the approximate fractional overlap, regionmask subsamples each gridpoint. It determines the mask with a grid that is 10 finer than the original one and then averages the subsampled mask to the original one - resulting in a fractional mask. Using this subsampling strategy is considerably faster but combes with some caveats (as also mentioned in the tutorial):\n",
    "\n",
    "1. The passed longitude and latitude coordinates must be equally spaced.\n",
    "2. Calculating the fractional overlap can be memory intensive.\n",
    "3. The resulting mask is correct to about 0.05 or 5%."
   ]
  },
  {
   "cell_type": "markdown",
   "metadata": {},
   "source": [
    "### Example\n",
    "\n",
    "Define a region and a lon/ lat grid:"
   ]
  },
  {
   "cell_type": "code",
   "execution_count": null,
   "metadata": {},
   "outputs": [],
   "source": [
    "outline = shapely.box(-95, 32, -85, 42)\n",
    "region = regionmask.Regions([outline])\n"
   ]
  },
  {
   "cell_type": "code",
   "execution_count": null,
   "metadata": {},
   "outputs": [],
   "source": [
    "ds_US = regionmask.core.utils.create_lon_lat_dataarray_from_bounds(\n",
    "    *(-162, -29, 10), *(75, 13, -10)\n",
    ")\n"
   ]
  },
  {
   "cell_type": "markdown",
   "metadata": {},
   "source": [
    "Manually create the subsampled grid:"
   ]
  },
  {
   "cell_type": "code",
   "execution_count": null,
   "metadata": {},
   "outputs": [],
   "source": [
    "ds_US_sub = regionmask.core.utils.create_lon_lat_dataarray_from_bounds(\n",
    "    *(-162, -29, 1), *(75, 13, -1)\n",
    ")\n"
   ]
  },
  {
   "cell_type": "markdown",
   "metadata": {},
   "source": [
    "Create two masks - once the `mask_3D_frac_approx` and once from the subsampled grid to illustrate the method:"
   ]
  },
  {
   "cell_type": "code",
   "execution_count": null,
   "metadata": {},
   "outputs": [],
   "source": [
    "mask_frac_approx = region.mask_3D_frac_approx(ds_US)\n",
    "mask_subsampled = region.mask(ds_US_sub)\n"
   ]
  },
  {
   "cell_type": "markdown",
   "metadata": {},
   "source": [
    "Plot the masked regions:"
   ]
  },
  {
   "cell_type": "code",
   "execution_count": null,
   "metadata": {},
   "outputs": [],
   "source": [
    "fmt_c = {\"ec\": \"0.4\", \"lw\": 1.0}\n",
    "fmt_s = {\"ec\": \"0.8\", \"lw\": 0.5}\n",
    "\n",
    "def plot_grid(ax, ds, **kwargs):\n",
    "    ax.plot(ds.LON, ds.lat, \"o\", transform=ccrs.PlateCarree(), **kwargs)\n",
    "\n",
    "def plot_mask(ax, mask, **kwargs):\n",
    "    opt = {\"add_colorbar\": False, \"transform\": ccrs.PlateCarree()}\n",
    "    mask.plot(ax=ax, **opt | kwargs)\n",
    "\n",
    "# ===\n",
    "\n",
    "f, axs = plt.subplots(1, 2, subplot_kw=dict(projection=ccrs.PlateCarree()))\n",
    "f.set_size_inches(f.get_size_inches() * 2.5)\n",
    "\n",
    "ax = axs[0]\n",
    "\n",
    "plot_mask(ax, mask_subsampled, colors=\"#fc9272\", levels=[0, 1], ec=\"0.8\", lw=0.5)\n",
    "plot_mask(ax, mask_frac_approx, fc=\"none\", **fmt_c)\n",
    "\n",
    "plot_grid(ax, ds_US_sub, color=\"0.75\", ms=0.5)\n",
    "\n",
    "\n",
    "ax = axs[1]\n",
    "plot_mask(ax, mask_frac_approx, cmap=\"Blues\", **fmt_c)\n",
    "\n",
    "\n",
    "for ax in axs:\n",
    "    ax = region.plot_regions(ax=ax, add_label=False, line_kws={\"color\": \"r\"})\n",
    "    ax.set_extent([-105, -75, 22.5, 47.5], ccrs.PlateCarree())\n",
    "    ax.coastlines(lw=0.5)\n",
    "\n",
    "    plot_grid(ax, ds_US, color=\"0.4\", ms=2)\n",
    "\n",
    "\n",
    "axs[0].set_title(\"Subsampled mask\")\n",
    "axs[1].set_title(\"Approximate fractional mask\")\n",
    "\n",
    "axs[0].set_title(\"(a)\", loc=\"left\")\n",
    "axs[1].set_title(\"(b)\", loc=\"left\")\n",
    "\n",
    "None\n"
   ]
  },
  {
   "cell_type": "markdown",
   "metadata": {},
   "source": [
    "Illustrating the method behind `mask_3D_frac_approx`. Points indicate the grid cell centers lines the grid cell borders. (a) shows the original grid (black) and the subsampled grid (light gray). The colored subsampled grid points belong to the region. (b) Fractional overlap for the original grid. E.g. the lower left grid cell is at 0.09 (9%) as it contains 9 / 100 of the subsampled grid points.\n",
    "\n",
    "## The fractional mask is only approximate\n",
    "\n",
    "Because a subsampling strategy is chosen, the resulting mask is only approximate. We create three regions and a grid to demonstrate this."
   ]
  },
  {
   "cell_type": "code",
   "execution_count": null,
   "metadata": {},
   "outputs": [],
   "source": [
    "# region 1 -> triangle\n",
    "poly = shapely.geometry.Polygon([[0, 10], [10, 0], [10, 0], [10, 10]])\n",
    "region1 = regionmask.Regions([poly])\n",
    "\n",
    "# region 2 -> three quarters of the grid cell\n",
    "poly = shapely.box(0, 0, 10, 7.5)\n",
    "region2 = regionmask.Regions([poly])\n",
    "\n",
    "# region 3 -> 32 % of the gridcell\n",
    "poly = shapely.box(0, 0, 10, 3.2)\n",
    "region3 = regionmask.Regions([poly])\n",
    "\n",
    "regions = [region1, region2, region3]\n",
    "expected = [0.50, 0.75, 0.32]\n"
   ]
  },
  {
   "cell_type": "code",
   "execution_count": null,
   "metadata": {},
   "outputs": [],
   "source": [
    "lon, lat = np.array([-5, 5, 15]), np.array([-5, 5, 15])\n",
    "LON, LAT = np.meshgrid(lon, lat)\n",
    "\n",
    "lons, lats = np.arange(0.5, 10, 1), np.arange(0.5, 10, 1)\n",
    "LONS, LATS = np.meshgrid(lons, lats)\n"
   ]
  },
  {
   "cell_type": "markdown",
   "metadata": {},
   "source": [
    "Illustrate the regions and compare the expected and computed overlap:"
   ]
  },
  {
   "cell_type": "code",
   "execution_count": null,
   "metadata": {},
   "outputs": [],
   "source": [
    "\n",
    "cmap = plt.get_cmap(\"Reds\")\n",
    "cmap.set_under(\"w\")\n",
    "line_kws = {\"color\": \"#4292c6\", \"zorder\": 4, \"lw\": 2}\n",
    "labels = (\"a\", \"b\", \"c\")\n",
    "\n",
    "# =================\n",
    "\n",
    "f, axs = plt.subplots(1, 3, sharex=True, sharey=True)\n",
    "f.set_size_inches(15, 5)\n",
    "\n",
    "for i, (ax, region, exp, lbl) in enumerate(zip(axs, regions, expected, labels)):\n",
    "\n",
    "    # create mask\n",
    "    mask_frac = region.mask_3D_frac_approx(lon, lat).squeeze()\n",
    "    mask_subsampled = region.mask_3D(lons, lats)\n",
    "\n",
    "\n",
    "    # plot fractional overlap and region outline\n",
    "    mask_frac.plot(ax=ax, cmap=cmap, vmax=1, vmin=0.1, add_colorbar=False, lw=1, ec=\"0.4\")\n",
    "    region.plot_regions(ax=ax, add_label=False, line_kws=line_kws)\n",
    "\n",
    "\n",
    "    mask_subsampled.plot(ax=ax, colors=[\"#ffffff00\", \"#77777744\"], levels=[0.5, 1.5], add_colorbar=False)\n",
    "\n",
    "    # plot the gricell and subsampled gridcell centers\n",
    "    ax.plot(LON, lat, \"o\", color=\"0.4\", ms=3, zorder=5)\n",
    "    ax.plot(LONS, lats, \"o\", color=\"0.75\", ms=0.5, zorder=5)\n",
    "\n",
    "    #\n",
    "    lim = (-1, 11)\n",
    "    ax.set(title=\"\", xlabel=\"\", ylabel=\"\", xticks=[], yticks=[], xlim=lim, ylim=lim)\n",
    "\n",
    "    title = f\"Expected: {exp:0.2f}, Actual: {mask_frac[1, 1].item():0.2f}\"\n",
    "    ax.set_title(title, loc=\"right\")\n",
    "    ax.set_title(f\"({lbl})\", loc=\"left\")\n",
    "\n",
    "    ax.set_aspect(\"equal\")\n",
    "\n",
    "    # break\n"
   ]
  },
  {
   "cell_type": "markdown",
   "metadata": {},
   "source": [
    "Again, the dark lines and point mark the grid cell. The light grid points mark the subsampled grid cells. The shading indicates the subsampled grid cells that were found to be part of the region. In (a) there is 10 times half a subsampled grid cell missing - resulting in an estimate that is 0.05 too low; (b) has 10 times half a subsampled gridcell too much, thus, overestimating the overlap by 5%, while in (c) 0.2 is missing."
   ]
  },
  {
   "cell_type": "markdown",
   "metadata": {},
   "source": [
    "### Why not subsample with more points?\n",
    "\n",
    "It would be possible to get a better estimate of the fractional overlap. However, the precision increases with $1 / n$, where $n$ is the number of samples in one dimension, while the total number of points increases as $n^2$. Thus, a doubling of the precision requires a quadrupling of the number of tested points, which quickly makes it too memory and cpu heavy."
   ]
  }
 ],
 "metadata": {
  "kernelspec": {
   "display_name": "Python 3",
   "language": "python",
   "name": "python3"
  },
  "language_info": {
   "codemirror_mode": {
    "name": "ipython",
    "version": 3
   },
   "file_extension": ".py",
   "mimetype": "text/x-python",
   "name": "python",
   "nbconvert_exporter": "python",
   "pygments_lexer": "ipython3",
   "version": "3.11.6"
  }
 },
 "nbformat": 4,
 "nbformat_minor": 1
}
