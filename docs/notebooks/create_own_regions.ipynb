{
 "cells": [
  {
   "cell_type": "code",
   "execution_count": null,
   "metadata": {},
   "outputs": [],
   "source": [
    "%matplotlib inline\n",
    "%config InlineBackend.figure_format = \"retina\"\n",
    "\n",
    "from matplotlib import rcParams\n",
    "rcParams[\"savefig.dpi\"] = 200\n",
    "rcParams[\"font.size\"] = 8\n",
    "\n",
    "import warnings\n",
    "warnings.filterwarnings('ignore')"
   ]
  },
  {
   "cell_type": "markdown",
   "metadata": {},
   "source": [
    "# Create your own region"
   ]
  },
  {
   "cell_type": "markdown",
   "metadata": {},
   "source": [
    "% comment: leave next cell as RawNBConvert -> else the warning mesage is not correctly displayed"
   ]
  },
  {
   "cell_type": "raw",
   "metadata": {},
   "source": [
    ".. note:: In version 0.5 the ``Regions_cls`` has been renamed to ``Regions`` and it's call signature has changed. All arguments (except ``outlines``) are now optional."
   ]
  },
  {
   "cell_type": "markdown",
   "metadata": {},
   "source": [
    "Creating own regions is straightforward. Import regionmask and check the version:"
   ]
  },
  {
   "cell_type": "code",
   "execution_count": null,
   "metadata": {},
   "outputs": [],
   "source": [
    "import regionmask\n",
    "regionmask.__version__"
   ]
  },
  {
   "cell_type": "markdown",
   "metadata": {},
   "source": [
    "Import numpy"
   ]
  },
  {
   "cell_type": "code",
   "execution_count": null,
   "metadata": {},
   "outputs": [],
   "source": [
    "import numpy as np"
   ]
  },
  {
   "cell_type": "markdown",
   "metadata": {},
   "source": [
    "Assume you have two custom regions in the US, you can easily use these to create `Regions`:"
   ]
  },
  {
   "cell_type": "code",
   "execution_count": null,
   "metadata": {},
   "outputs": [],
   "source": [
    "US1 = np.array([[-100., 30], [-100, 40], [-120, 35]])\n",
    "US2 = np.array([[-100., 30], [-80, 30], [-80, 40], [-100, 40]])\n",
    "\n",
    "regionmask.Regions([US1, US2])"
   ]
  },
  {
   "cell_type": "markdown",
   "metadata": {},
   "source": [
    "If you want to set the `names` and `abbrevs` yourself you can still do that:"
   ]
  },
  {
   "cell_type": "code",
   "execution_count": null,
   "metadata": {},
   "outputs": [],
   "source": [
    "names = ['US_west', 'US_east']\n",
    "abbrevs = ['USw', 'USe']\n",
    "\n",
    "USregions = regionmask.Regions([US1, US2], names=names, abbrevs=abbrevs, name='US')\n",
    "USregions"
   ]
  },
  {
   "cell_type": "markdown",
   "metadata": {},
   "source": [
    "Again we can plot the outline of the defined regions"
   ]
  },
  {
   "cell_type": "code",
   "execution_count": null,
   "metadata": {},
   "outputs": [],
   "source": [
    "ax = USregions.plot(label='abbrev')\n",
    "\n",
    "# load cartopy\n",
    "import cartopy.crs as ccrs\n",
    "# fine tune the extent\n",
    "ax.set_extent([225, 300, 25, 45], crs=ccrs.PlateCarree());"
   ]
  },
  {
   "cell_type": "markdown",
   "metadata": {},
   "source": [
    "and obtain a mask:"
   ]
  },
  {
   "cell_type": "code",
   "execution_count": null,
   "metadata": {},
   "outputs": [],
   "source": [
    "import numpy as np\n",
    "\n",
    "# define lat/ lon grid\n",
    "lon = np.arange(200.5, 330, 1)\n",
    "lat = np.arange(74.5, 15, -1)\n",
    "\n",
    "# for the plotting\n",
    "lon_edges = np.arange(200, 331, 1)\n",
    "lat_edges = np.arange(75, 14, -1)\n",
    "\n",
    "mask = USregions.mask(lon, lat)"
   ]
  },
  {
   "cell_type": "code",
   "execution_count": null,
   "metadata": {},
   "outputs": [],
   "source": [
    "import matplotlib.pyplot as plt\n",
    "\n",
    "ax = plt.subplot(111, projection=ccrs.PlateCarree())\n",
    "\n",
    "# pcolormesh does not handle NaNs, requires masked array\n",
    "mask_ma = np.ma.masked_invalid(mask)\n",
    "\n",
    "h = ax.pcolormesh(\n",
    "    lon_edges,\n",
    "    lat_edges,\n",
    "    mask_ma,\n",
    "    transform=ccrs.PlateCarree(),\n",
    "    cmap='viridis',\n",
    ")\n",
    "\n",
    "ax.coastlines()\n",
    "\n",
    "# add the outlines of the regions\n",
    "USregions.plot_regions(ax=ax, add_label=False)\n",
    "\n",
    "ax.set_extent([225, 300, 25, 45], crs=ccrs.PlateCarree());"
   ]
  },
  {
   "cell_type": "markdown",
   "metadata": {},
   "source": [
    "## Use shapely Polygon\n",
    "\n",
    "If you have the region defined as a shapely polygon, this also works:"
   ]
  },
  {
   "cell_type": "code",
   "execution_count": null,
   "metadata": {},
   "outputs": [],
   "source": [
    "from shapely.geometry import Polygon, MultiPolygon\n",
    "\n",
    "US1_poly = Polygon(US1)\n",
    "US2_poly = Polygon(US2)\n",
    "\n",
    "US1_poly, US2_poly"
   ]
  },
  {
   "cell_type": "code",
   "execution_count": null,
   "metadata": {},
   "outputs": [],
   "source": [
    "USregions_poly = regionmask.Regions([US1_poly, US2_poly])\n",
    "\n",
    "USregions_poly"
   ]
  },
  {
   "cell_type": "markdown",
   "metadata": {},
   "source": [
    "## Create Regions with MultiPolygon and interiors\n",
    "\n",
    "Create two discontiguous regions and combine them to one. Add a hole to one of the regions"
   ]
  },
  {
   "cell_type": "code",
   "execution_count": null,
   "metadata": {},
   "outputs": [],
   "source": [
    "US1_shifted = US1 - (5, 0)\n",
    "US2_hole = np.array([[-98., 33], [-92, 33], [-92, 37], [-98, 37], [-98., 33]])"
   ]
  },
  {
   "cell_type": "markdown",
   "metadata": {},
   "source": [
    "Create `Polygons`, a `MultiPolygon`, and finally `Regions`"
   ]
  },
  {
   "cell_type": "code",
   "execution_count": null,
   "metadata": {},
   "outputs": [],
   "source": [
    "US1_poly = Polygon(US1_shifted)\n",
    "US2_poly = Polygon(US2, holes=[US2_hole])\n",
    "\n",
    "US_multipoly = MultiPolygon([US1_poly, US2_poly])\n",
    "\n",
    "USregions_poly = regionmask.Regions([US_multipoly])"
   ]
  },
  {
   "cell_type": "code",
   "execution_count": null,
   "metadata": {},
   "outputs": [],
   "source": [
    "USregions_poly.plot()\n",
    "\n",
    "# polygon interiors are not yet plotted by default\n",
    "plt.plot(*US2_hole.T, color=\"k\", transform=ccrs.PlateCarree())"
   ]
  },
  {
   "cell_type": "markdown",
   "metadata": {},
   "source": [
    "Create a mask:"
   ]
  },
  {
   "cell_type": "code",
   "execution_count": null,
   "metadata": {},
   "outputs": [],
   "source": [
    "mask = USregions_poly.mask(lon, lat)"
   ]
  },
  {
   "cell_type": "markdown",
   "metadata": {},
   "source": [
    "and plot it:"
   ]
  },
  {
   "cell_type": "code",
   "execution_count": null,
   "metadata": {},
   "outputs": [],
   "source": [
    "ax = plt.subplot(111, projection=ccrs.PlateCarree())\n",
    "\n",
    "mask.plot(transform=ccrs.PlateCarree(), add_colorbar=False)\n",
    "\n",
    "ax.coastlines()"
   ]
  },
  {
   "cell_type": "code",
   "execution_count": null,
   "metadata": {},
   "outputs": [],
   "source": []
  }
 ],
 "metadata": {
  "kernelspec": {
   "display_name": "Python 3",
   "language": "python",
   "name": "python3"
  },
  "language_info": {
   "codemirror_mode": {
    "name": "ipython",
    "version": 3
   },
   "file_extension": ".py",
   "mimetype": "text/x-python",
   "name": "python",
   "nbconvert_exporter": "python",
   "pygments_lexer": "ipython3",
   "version": "3.7.3"
  }
 },
 "nbformat": 4,
 "nbformat_minor": 1
}
