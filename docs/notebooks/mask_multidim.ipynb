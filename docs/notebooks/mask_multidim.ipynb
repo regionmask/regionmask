{
 "cells": [
  {
   "cell_type": "code",
   "execution_count": null,
   "metadata": {},
   "outputs": [],
   "source": [
    "%matplotlib inline\n",
    "%config InlineBackend.figure_format = \"retina\"\n",
    "\n",
    "from matplotlib import rcParams\n",
    "rcParams[\"savefig.dpi\"] = 200\n",
    "rcParams[\"font.size\"] = 8\n",
    "\n",
    "import warnings\n",
    "warnings.filterwarnings('ignore')"
   ]
  },
  {
   "cell_type": "markdown",
   "metadata": {},
   "source": [
    "# Multidimensional coordinates"
   ]
  },
  {
   "cell_type": "markdown",
   "metadata": {},
   "source": [
    "## Multidimensional coordinates with xarray\n",
    "\n",
    "Regionmask can also handle mutltidimensional longitude/ latitude grids (e.g. from a regional climate model). As xarray provides such an example dataset, we will use it to illustrate it. See also in the [xarray documentation](http://xarray.pydata.org/en/stable/examples/multidimensional-coords.html/).\n"
   ]
  },
  {
   "cell_type": "markdown",
   "metadata": {},
   "source": [
    "Import regionmask and check the version:"
   ]
  },
  {
   "cell_type": "code",
   "execution_count": null,
   "metadata": {},
   "outputs": [],
   "source": [
    "import regionmask\n",
    "regionmask.__version__"
   ]
  },
  {
   "cell_type": "markdown",
   "metadata": {},
   "source": [
    "Load xarray and the tutorial data:"
   ]
  },
  {
   "cell_type": "code",
   "execution_count": null,
   "metadata": {},
   "outputs": [],
   "source": [
    "import xarray as xr\n",
    "import numpy as np"
   ]
  },
  {
   "cell_type": "code",
   "execution_count": null,
   "metadata": {},
   "outputs": [],
   "source": [
    "rasm = xr.tutorial.load_dataset('rasm')"
   ]
  },
  {
   "cell_type": "markdown",
   "metadata": {},
   "source": [
    "The example data is a temperature field over the Northern Hemisphere. Let's plot the first time step:"
   ]
  },
  {
   "cell_type": "code",
   "execution_count": null,
   "metadata": {},
   "outputs": [],
   "source": [
    "# load plotting libraries\n",
    "import matplotlib.pyplot as plt\n",
    "import cartopy.crs as ccrs\n",
    "\n",
    "# choose a projection\n",
    "proj=ccrs.NorthPolarStereo()\n",
    "\n",
    "ax = plt.subplot(111, projection=proj)\n",
    "ax.set_global()\n",
    "\n",
    "rasm.isel(time=1).Tair.plot.pcolormesh(ax=ax, x='xc', y='yc', transform=ccrs.PlateCarree())\n",
    "\n",
    "# add the abbreviation of the regions\n",
    "regionmask.defined_regions.srex.plot(ax=ax, regions=[1, 2, 11, 12, 18], \n",
    "                                     add_ocean=False, coastlines=False, label='abbrev')\n",
    "\n",
    "ax.set_extent([-180, 180, 45, 90], ccrs.PlateCarree())\n",
    "\n",
    "ax.coastlines();"
   ]
  },
  {
   "cell_type": "markdown",
   "metadata": {},
   "source": [
    "Again we pass the xarray object to regionmask. We have to specify `xc` and `yc` as the longitude and latitude coordinates of the array: "
   ]
  },
  {
   "cell_type": "code",
   "execution_count": null,
   "metadata": {},
   "outputs": [],
   "source": [
    "mask = regionmask.defined_regions.srex.mask(rasm, lon_name='xc', lat_name='yc')\n",
    "mask"
   ]
  },
  {
   "cell_type": "markdown",
   "metadata": {},
   "source": [
    "We want to select the region 'NAS' (Northern Asia)."
   ]
  },
  {
   "cell_type": "markdown",
   "metadata": {},
   "source": [
    "### Select using `where`"
   ]
  },
  {
   "cell_type": "markdown",
   "metadata": {},
   "source": [
    "We have to select by index (the number of the region), we thus map from the abbreviation to the index."
   ]
  },
  {
   "cell_type": "code",
   "execution_count": null,
   "metadata": {},
   "outputs": [],
   "source": [
    "rasm_NAS = rasm.where(mask == regionmask.defined_regions.srex.map_keys('NAS'))"
   ]
  },
  {
   "cell_type": "markdown",
   "metadata": {},
   "source": [
    "Check everything went well by repeating the first plot with the selected region:"
   ]
  },
  {
   "cell_type": "code",
   "execution_count": null,
   "metadata": {},
   "outputs": [],
   "source": [
    "# choose a projection\n",
    "proj=ccrs.NorthPolarStereo()\n",
    "\n",
    "ax = plt.subplot(111, projection=proj)\n",
    "ax.set_global()\n",
    "\n",
    "rasm_NAS.isel(time=1).Tair.plot.pcolormesh(ax=ax, x='xc', y='yc', transform=ccrs.PlateCarree())\n",
    "\n",
    "\n",
    "# add the abbreviation of the regions\n",
    "regionmask.defined_regions.srex.plot(ax=ax, regions=['NAS'], \n",
    "                                     add_ocean=False, coastlines=False, label='abbrev')\n",
    "\n",
    "ax.set_extent([-180, 180, 45, 90], ccrs.PlateCarree())\n",
    "\n",
    "ax.coastlines();"
   ]
  },
  {
   "cell_type": "markdown",
   "metadata": {},
   "source": [
    "Looks good - now we coould again take the area average."
   ]
  },
  {
   "cell_type": "markdown",
   "metadata": {},
   "source": [
    "## Multidimensional coordinates with numpy"
   ]
  },
  {
   "cell_type": "markdown",
   "metadata": {},
   "source": [
    "If you don't use xarray, the same can be achieved with numpy arrays."
   ]
  },
  {
   "cell_type": "code",
   "execution_count": null,
   "metadata": {},
   "outputs": [],
   "source": [
    "# extract lon and lat\n",
    "lon = rasm.xc.values\n",
    "lat = rasm.yc.values"
   ]
  },
  {
   "cell_type": "markdown",
   "metadata": {},
   "source": [
    "The lon and lat numpy arrays can directly be passed to regionmask (now we create a mask with the countries of the world):"
   ]
  },
  {
   "cell_type": "code",
   "execution_count": null,
   "metadata": {},
   "outputs": [],
   "source": [
    "mask = regionmask.defined_regions.natural_earth.countries_110.mask(lon, lat)\n",
    "mask"
   ]
  },
  {
   "cell_type": "markdown",
   "metadata": {},
   "source": [
    "`regionmask` returns a xarray object even when passing numpy arrays. To get a numpy array, use `values`:"
   ]
  },
  {
   "cell_type": "code",
   "execution_count": null,
   "metadata": {},
   "outputs": [],
   "source": [
    "mask = mask.values\n",
    "mask"
   ]
  },
  {
   "cell_type": "markdown",
   "metadata": {},
   "source": [
    "Finally, plot the mask:"
   ]
  },
  {
   "cell_type": "code",
   "execution_count": null,
   "metadata": {},
   "outputs": [],
   "source": [
    "proj=ccrs.NorthPolarStereo()\n",
    "\n",
    "ax = plt.subplot(111, projection=proj)\n",
    "\n",
    "m = np.ma.masked_invalid(mask)\n",
    "ax.pcolormesh(lon, lat, m, transform=ccrs.PlateCarree())\n",
    "\n",
    "ax.set_extent([-180, 180, 45, 90], ccrs.PlateCarree())\n",
    "\n",
    "ax.coastlines();"
   ]
  },
  {
   "cell_type": "code",
   "execution_count": null,
   "metadata": {},
   "outputs": [],
   "source": []
  }
 ],
 "metadata": {
  "kernelspec": {
   "display_name": "Python 3",
   "language": "python",
   "name": "python3"
  },
  "language_info": {
   "codemirror_mode": {
    "name": "ipython",
    "version": 3
   },
   "file_extension": ".py",
   "mimetype": "text/x-python",
   "name": "python",
   "nbconvert_exporter": "python",
   "pygments_lexer": "ipython3",
   "version": "3.7.3"
  }
 },
 "nbformat": 4,
 "nbformat_minor": 1
}
