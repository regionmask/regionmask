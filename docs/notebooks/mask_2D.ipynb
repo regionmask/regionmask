{
 "cells": [
  {
   "cell_type": "code",
   "execution_count": null,
   "metadata": {},
   "outputs": [],
   "source": [
    "%matplotlib inline\n",
    "%config InlineBackend.figure_format = \"retina\"\n",
    "\n",
    "from matplotlib import rcParams\n",
    "\n",
    "rcParams[\"savefig.dpi\"] = 200\n",
    "rcParams[\"font.size\"] = 8\n",
    "\n",
    "import warnings\n",
    "\n",
    "warnings.filterwarnings(\"ignore\")"
   ]
  },
  {
   "cell_type": "markdown",
   "metadata": {},
   "source": [
    "# Create 2D region masks\n",
    "\n",
    "In this tutorial we will show how to create 2D mask for arbitrary latitude and longitude grids."
   ]
  },
  {
   "cell_type": "markdown",
   "metadata": {},
   "source": [
    "Import regionmask and check the version:"
   ]
  },
  {
   "cell_type": "code",
   "execution_count": null,
   "metadata": {},
   "outputs": [],
   "source": [
    "import regionmask\n",
    "\n",
    "regionmask.__version__"
   ]
  },
  {
   "cell_type": "markdown",
   "metadata": {},
   "source": [
    "Load xarray and the tutorial data:"
   ]
  },
  {
   "cell_type": "code",
   "execution_count": null,
   "metadata": {},
   "outputs": [],
   "source": [
    "import xarray as xr\n",
    "import numpy as np"
   ]
  },
  {
   "cell_type": "markdown",
   "metadata": {},
   "source": [
    "## Creating a mask\n",
    "\n",
    "We define a lon/ lat grid with a 1° grid spacing, where the points define the center of the grid."
   ]
  },
  {
   "cell_type": "code",
   "execution_count": null,
   "metadata": {},
   "outputs": [],
   "source": [
    "lon = np.arange(-179.5, 180)\n",
    "lat = np.arange(-89.5, 90)"
   ]
  },
  {
   "cell_type": "markdown",
   "metadata": {},
   "source": [
    "We create a mask with the SREX regions (Seneviratne et al., 2012)."
   ]
  },
  {
   "cell_type": "code",
   "execution_count": null,
   "metadata": {},
   "outputs": [],
   "source": [
    "regionmask.defined_regions.srex"
   ]
  },
  {
   "cell_type": "markdown",
   "metadata": {},
   "source": [
    "The function `mask` determines which gripoints lie within the polygon making up the each region:"
   ]
  },
  {
   "cell_type": "code",
   "execution_count": null,
   "metadata": {},
   "outputs": [],
   "source": [
    "mask = regionmask.defined_regions.srex.mask(lon, lat)\n",
    "mask"
   ]
  },
  {
   "cell_type": "markdown",
   "metadata": {},
   "source": [
    "`mask` is now a `xarray.Dataset` with shape `lat x lon` (if you need a numpy array use `mask.values`). Gridpoints that do not fall in a region are `NaN`, the gridpoints that fall in a region are encoded with the number of the region (here 1 to 26).\n",
    "\n",
    "We can now plot the `mask`:"
   ]
  },
  {
   "cell_type": "code",
   "execution_count": null,
   "metadata": {},
   "outputs": [],
   "source": [
    "import cartopy.crs as ccrs\n",
    "import matplotlib.pyplot as plt\n",
    "\n",
    "f, ax = plt.subplots(subplot_kw=dict(projection=ccrs.PlateCarree()))\n",
    "ax.coastlines()\n",
    "\n",
    "mask.plot(ax=ax, transform=ccrs.PlateCarree(), add_colorbar=False);"
   ]
  },
  {
   "cell_type": "markdown",
   "metadata": {},
   "source": [
    "## Working with a mask\n",
    "\n",
    "masks can be used to select data in a certain region and to calculate regional averages - let's illustrate this with a 'real' dataset:"
   ]
  },
  {
   "cell_type": "code",
   "execution_count": null,
   "metadata": {},
   "outputs": [],
   "source": [
    "airtemps = xr.tutorial.load_dataset(\"air_temperature\")"
   ]
  },
  {
   "cell_type": "markdown",
   "metadata": {},
   "source": [
    "The example data is a temperature field over North America. Let's plot the first time step:"
   ]
  },
  {
   "cell_type": "code",
   "execution_count": null,
   "metadata": {},
   "outputs": [],
   "source": [
    "# load plotting libraries\n",
    "import matplotlib.pyplot as plt\n",
    "import cartopy.crs as ccrs\n",
    "\n",
    "# choose a good projection for regional maps\n",
    "proj = ccrs.LambertConformal(central_longitude=-100)\n",
    "\n",
    "ax = plt.subplot(111, projection=proj)\n",
    "\n",
    "airtemps.isel(time=1).air.plot.pcolormesh(ax=ax, transform=ccrs.PlateCarree())\n",
    "\n",
    "ax.coastlines();"
   ]
  },
  {
   "cell_type": "markdown",
   "metadata": {},
   "source": [
    "Conviniently we can directly pass an xarray object to the `mask` function. It gets the longitude and latitude from the `DataArray`/ `Dataset` and creates the `mask`. If the longitude and latitude in the xarray object are not called `\"lon\"` and `\"lat\"`, respectively; you can pass their name via the `lon_name` and `lat_name` keyword."
   ]
  },
  {
   "cell_type": "code",
   "execution_count": null,
   "metadata": {},
   "outputs": [],
   "source": [
    "mask = regionmask.defined_regions.srex.mask(airtemps)"
   ]
  },
  {
   "cell_type": "raw",
   "metadata": {},
   "source": [
    ".. note:: From version 0.5 ``regionmask`` automatically detects wether the longitude needs to be wrapped around, i.e. if the regions extend from -180° E to 180° W, while the grid goes from 0° to 360° W as in our example:"
   ]
  },
  {
   "cell_type": "code",
   "execution_count": null,
   "metadata": {},
   "outputs": [],
   "source": [
    "lon = airtemps.lon\n",
    "print(\n",
    "    \"Grid extent:    {:3.0f}°E to {:3.0f}°E\".format(lon.values.min(), lon.values.max())\n",
    ")\n",
    "\n",
    "bounds = regionmask.defined_regions.srex.bounds_global\n",
    "print(\"Region extent: {:3.0f}°E to {:3.0f}°E\".format(bounds[0], bounds[2]))"
   ]
  },
  {
   "cell_type": "markdown",
   "metadata": {},
   "source": [
    "Let's plot the mask of the regions:"
   ]
  },
  {
   "cell_type": "code",
   "execution_count": null,
   "metadata": {},
   "outputs": [],
   "source": [
    "proj = ccrs.LambertConformal(central_longitude=-100)\n",
    "ax = plt.subplot(111, projection=proj)\n",
    "\n",
    "low = mask.min()\n",
    "high = mask.max()\n",
    "\n",
    "levels = np.arange(low - 0.5, high + 1)\n",
    "\n",
    "h = mask.plot.pcolormesh(\n",
    "    ax=ax, transform=ccrs.PlateCarree(), levels=levels, add_colorbar=False\n",
    ")\n",
    "\n",
    "# for colorbar: find abbreviations of all regions that were selected\n",
    "reg = np.unique(mask.values)\n",
    "reg = reg[~np.isnan(reg)]\n",
    "abbrevs = regionmask.defined_regions.srex[reg].abbrevs\n",
    "\n",
    "cbar = plt.colorbar(h, orientation=\"horizontal\", fraction=0.075, pad=0.05)\n",
    "\n",
    "cbar.set_ticks(reg)\n",
    "cbar.set_ticklabels(abbrevs)\n",
    "cbar.set_label(\"Region\")\n",
    "\n",
    "ax.coastlines()\n",
    "\n",
    "# fine tune the extent\n",
    "ax.set_extent([200, 330, 10, 75], crs=ccrs.PlateCarree())"
   ]
  },
  {
   "cell_type": "markdown",
   "metadata": {},
   "source": [
    "We want to select the region 'Central North America'. Thus we first need to find out which number this is:"
   ]
  },
  {
   "cell_type": "code",
   "execution_count": null,
   "metadata": {},
   "outputs": [],
   "source": [
    "CNA_index = regionmask.defined_regions.srex.map_keys(\"C. North America\")\n",
    "CNA_index"
   ]
  },
  {
   "cell_type": "markdown",
   "metadata": {},
   "source": [
    "### Select using `where`"
   ]
  },
  {
   "cell_type": "markdown",
   "metadata": {},
   "source": [
    "`xarray` provides the handy `where` function:"
   ]
  },
  {
   "cell_type": "code",
   "execution_count": null,
   "metadata": {},
   "outputs": [],
   "source": [
    "airtemps_CNA = airtemps.where(mask == CNA_index)"
   ]
  },
  {
   "cell_type": "markdown",
   "metadata": {},
   "source": [
    "Check everything went well by repeating the first plot with the selected region:"
   ]
  },
  {
   "cell_type": "code",
   "execution_count": null,
   "metadata": {},
   "outputs": [],
   "source": [
    "# choose a good projection for regional maps\n",
    "proj = ccrs.LambertConformal(central_longitude=-100)\n",
    "\n",
    "ax = plt.subplot(111, projection=proj)\n",
    "\n",
    "regionmask.defined_regions.srex[[\"CNA\"]].plot(ax=ax, add_ocean=False, add_label=False)\n",
    "\n",
    "airtemps_CNA.isel(time=1).air.plot.pcolormesh(ax=ax, transform=ccrs.PlateCarree())\n",
    "\n",
    "ax.coastlines();"
   ]
  },
  {
   "cell_type": "markdown",
   "metadata": {},
   "source": [
    "Looks good - let's take the area average and plot the time series. From version 0.15.1 xarray includes a function to calculate the weighted mean - we use `cos(lat)` as proxy of the grid cell area"
   ]
  },
  {
   "cell_type": "code",
   "execution_count": null,
   "metadata": {},
   "outputs": [],
   "source": [
    "weights = np.cos(np.deg2rad(airtemps.lat))\n",
    "\n",
    "ts_airtemps_CNA = airtemps_CNA.weighted(weights).mean(dim=(\"lat\", \"lon\")) - 273.15\n",
    "ts_airtemps = airtemps.weighted(weights).mean(dim=(\"lat\", \"lon\")) - 273.15\n",
    "\n",
    "# and the line plot\n",
    "f, ax = plt.subplots()\n",
    "ts_airtemps_CNA.air.plot.line(ax=ax, label=\"Central North America\")\n",
    "ts_airtemps.air.plot(ax=ax, label=\"Entire Domain\")\n",
    "\n",
    "ax.axhline(0, color=\"0.1\", lw=0.5)\n",
    "\n",
    "plt.legend(ncol=2);"
   ]
  },
  {
   "cell_type": "markdown",
   "metadata": {
    "collapsed": true
   },
   "source": [
    "To get the regional average over each region you need to loop over them.\n",
    "\n",
    "### Select using `groupby`"
   ]
  },
  {
   "cell_type": "raw",
   "metadata": {},
   "source": [
    ".. warning::\n",
    "   Using ``groupby`` offers some convinience and is faster than using ``where`` and a loop. However, it cannot\n",
    "   currently be combinded with ``weighted`` (xarray `GH3937 <https://github.com/pydata/xarray/issues/3937>`_).\n",
    "   Therefore I recommend using ``where``."
   ]
  },
  {
   "cell_type": "code",
   "execution_count": null,
   "metadata": {},
   "outputs": [],
   "source": [
    "# you can group over all integer values of the mask\n",
    "airtemps_all = airtemps.groupby(mask).mean()"
   ]
  },
  {
   "cell_type": "markdown",
   "metadata": {},
   "source": [
    "we can add the abbreviations and names of the regions to the DataArray"
   ]
  },
  {
   "cell_type": "code",
   "execution_count": null,
   "metadata": {},
   "outputs": [],
   "source": [
    "# extract the abbreviations and the names of the regions from regionmask\n",
    "abbrevs = regionmask.defined_regions.srex[airtemps_all.region.values].abbrevs\n",
    "names = regionmask.defined_regions.srex[airtemps_all.region.values].names\n",
    "\n",
    "airtemps_all.coords[\"abbrevs\"] = (\"region\", abbrevs)\n",
    "airtemps_all.coords[\"names\"] = (\"region\", names)"
   ]
  },
  {
   "cell_type": "markdown",
   "metadata": {},
   "source": [
    "now we can select the regions in many ways"
   ]
  },
  {
   "cell_type": "code",
   "execution_count": null,
   "metadata": {},
   "outputs": [],
   "source": [
    "# as before, by the index of the region\n",
    "r1 = airtemps_all.sel(region=CNA_index).air\n",
    "\n",
    "# with the abbreviation\n",
    "r2 = airtemps_all.isel(region=(airtemps_all.abbrevs == \"WNA\")).air.squeeze()\n",
    "\n",
    "# with the long name\n",
    "r3 = airtemps_all.isel(region=(airtemps_all.names == \"E. North America\")).air.squeeze()\n",
    "\n",
    "regs = [r1, r2, r3]"
   ]
  },
  {
   "cell_type": "markdown",
   "metadata": {},
   "source": [
    "Now, let's plot the three selected regions:"
   ]
  },
  {
   "cell_type": "code",
   "execution_count": null,
   "metadata": {},
   "outputs": [],
   "source": [
    "f, axes = plt.subplots(3, 1, sharex=True)\n",
    "\n",
    "for i, reg in enumerate(regs):\n",
    "    ax = axes[i]\n",
    "    reg.plot(ax=ax)\n",
    "    ax.set_title(reg.names.values)\n",
    "\n",
    "plt.setp(axes, xlabel=\"\")\n",
    "\n",
    "f.tight_layout()"
   ]
  },
  {
   "cell_type": "markdown",
   "metadata": {},
   "source": [
    "## Multidimensional coordinates\n",
    "\n",
    "Regionmask can also handle mutltidimensional longitude/ latitude grids (e.g. from a regional climate model). As xarray provides such an example dataset, we will use it to illustrate it. See also in the [xarray documentation](http://xarray.pydata.org/en/stable/examples/multidimensional-coords.html/).\n",
    "\n",
    "Load the tutorial data:"
   ]
  },
  {
   "cell_type": "code",
   "execution_count": null,
   "metadata": {},
   "outputs": [],
   "source": [
    "rasm = xr.tutorial.load_dataset(\"rasm\")"
   ]
  },
  {
   "cell_type": "markdown",
   "metadata": {},
   "source": [
    "The example data is a temperature field over the Northern Hemisphere. Let's plot the first time step:"
   ]
  },
  {
   "cell_type": "code",
   "execution_count": null,
   "metadata": {},
   "outputs": [],
   "source": [
    "# load plotting libraries\n",
    "import matplotlib.pyplot as plt\n",
    "import cartopy.crs as ccrs\n",
    "\n",
    "# choose a projection\n",
    "proj = ccrs.NorthPolarStereo()\n",
    "\n",
    "ax = plt.subplot(111, projection=proj)\n",
    "ax.set_global()\n",
    "\n",
    "rasm.isel(time=1).Tair.plot.pcolormesh(\n",
    "    ax=ax, x=\"xc\", y=\"yc\", transform=ccrs.PlateCarree()\n",
    ")\n",
    "\n",
    "# add the abbreviation of the regions\n",
    "regionmask.defined_regions.srex.plot(\n",
    "    ax=ax, regions=[1, 2, 11, 12, 18], add_ocean=False, coastlines=False, label=\"abbrev\"\n",
    ")\n",
    "\n",
    "ax.set_extent([-180, 180, 43, 90], ccrs.PlateCarree())\n",
    "\n",
    "ax.coastlines();"
   ]
  },
  {
   "cell_type": "markdown",
   "metadata": {},
   "source": [
    "Again we pass the xarray object to regionmask. We have to specify `\"xc\"` and `\"yc\"` as the longitude and latitude coordinates of the array:"
   ]
  },
  {
   "cell_type": "code",
   "execution_count": null,
   "metadata": {},
   "outputs": [],
   "source": [
    "mask = regionmask.defined_regions.srex.mask(rasm, lon_name=\"xc\", lat_name=\"yc\")\n",
    "mask"
   ]
  },
  {
   "cell_type": "markdown",
   "metadata": {},
   "source": [
    "We want to select the region 'NAS' (Northern Asia).\n",
    "\n",
    "### Select using `where`\n",
    "\n",
    "We have to select by index (the number of the region), we thus map from the abbreviation to the index."
   ]
  },
  {
   "cell_type": "code",
   "execution_count": null,
   "metadata": {},
   "outputs": [],
   "source": [
    "rasm_NAS = rasm.where(mask == regionmask.defined_regions.srex.map_keys(\"NAS\"))"
   ]
  },
  {
   "cell_type": "markdown",
   "metadata": {},
   "source": [
    "Check everything went well by repeating the first plot with the selected region:"
   ]
  },
  {
   "cell_type": "code",
   "execution_count": null,
   "metadata": {},
   "outputs": [],
   "source": [
    "# choose a projection\n",
    "proj = ccrs.NorthPolarStereo()\n",
    "\n",
    "ax = plt.subplot(111, projection=proj)\n",
    "ax.set_global()\n",
    "\n",
    "rasm_NAS.isel(time=1).Tair.plot.pcolormesh(\n",
    "    ax=ax, x=\"xc\", y=\"yc\", transform=ccrs.PlateCarree()\n",
    ")\n",
    "\n",
    "\n",
    "# add the abbreviation of the regions\n",
    "regionmask.defined_regions.srex.plot(\n",
    "    ax=ax, regions=[\"NAS\"], add_ocean=False, coastlines=False, label=\"abbrev\"\n",
    ")\n",
    "\n",
    "ax.set_extent([-180, 180, 45, 90], ccrs.PlateCarree())\n",
    "\n",
    "ax.coastlines();"
   ]
  },
  {
   "cell_type": "markdown",
   "metadata": {},
   "source": [
    "## References\n",
    "\n",
    "* Special Report on Managing the Risks of Extreme Events and Disasters to Advance Climate Change Adaptation (SREX, Seneviratne et al., 2012: https://www.ipcc.ch/site/assets/uploads/2018/03/SREX-Ch3-Supplement_FINAL-1.pdf)"
   ]
  },
  {
   "cell_type": "code",
   "execution_count": null,
   "metadata": {},
   "outputs": [],
   "source": []
  }
 ],
 "metadata": {
  "kernelspec": {
   "display_name": "Python 3",
   "language": "python",
   "name": "python3"
  },
  "language_info": {
   "codemirror_mode": {
    "name": "ipython",
    "version": 3
   },
   "file_extension": ".py",
   "mimetype": "text/x-python",
   "name": "python",
   "nbconvert_exporter": "python",
   "pygments_lexer": "ipython3",
   "version": "3.7.6"
  }
 },
 "nbformat": 4,
 "nbformat_minor": 1
}
