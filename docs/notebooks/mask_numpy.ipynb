{
 "cells": [
  {
   "cell_type": "code",
   "execution_count": null,
   "metadata": {},
   "outputs": [],
   "source": [
    "%matplotlib inline\n",
    "%config InlineBackend.figure_format = \"retina\"\n",
    "\n",
    "from matplotlib import rcParams\n",
    "rcParams[\"savefig.dpi\"] = 200\n",
    "rcParams[\"font.size\"] = 8\n",
    "\n",
    "import warnings\n",
    "warnings.filterwarnings('ignore')"
   ]
  },
  {
   "cell_type": "markdown",
   "metadata": {},
   "source": [
    "# Create numpy region mask\n",
    "\n",
    "In this tutorial we will show how to create a mask for arbitrary latitude and longitude grids."
   ]
  },
  {
   "cell_type": "markdown",
   "metadata": {},
   "source": [
    "Import regionmask and check the version:"
   ]
  },
  {
   "cell_type": "code",
   "execution_count": null,
   "metadata": {},
   "outputs": [],
   "source": [
    "import regionmask\n",
    "regionmask.__version__"
   ]
  },
  {
   "cell_type": "markdown",
   "metadata": {},
   "source": [
    "We define a lon/ lat grid with a 1° grid spacing, where the points define the middle of the grid. Additionally we create a grid that spans the edges of the grid for the plotting. "
   ]
  },
  {
   "cell_type": "code",
   "execution_count": null,
   "metadata": {},
   "outputs": [],
   "source": [
    "import numpy as np\n",
    "\n",
    "# define a longitude latitude grid\n",
    "lon = np.arange(-179.5, 180)\n",
    "lat = np.arange(-89.5, 90)\n",
    "\n",
    "# for the plotting\n",
    "lon_edges = np.arange(-180, 181)\n",
    "lat_edges = np.arange(-90, 91)"
   ]
  },
  {
   "cell_type": "markdown",
   "metadata": {},
   "source": [
    "Again we use the SREX regions. `regionmask` returns a `xarray.Dataset` - this can be converted to a `numpy` array by using `values`"
   ]
  },
  {
   "cell_type": "code",
   "execution_count": null,
   "metadata": {},
   "outputs": [],
   "source": [
    "mask = regionmask.defined_regions.srex.mask(lon, lat).values"
   ]
  },
  {
   "cell_type": "markdown",
   "metadata": {},
   "source": [
    "`mask` is now a `n_lon x n_lat` numpy array. Gridpoints that do not fall in a region are NaN, the gridpoints that fall in a region are encoded with the number of the region (here 1 to 26).\n",
    "\n",
    "The function `mask` determines if all cominations of points given in `lon` and `lat` lies within the polygon making up the region.\n",
    "\n",
    "We can now plot the `mask`:"
   ]
  },
  {
   "cell_type": "code",
   "execution_count": null,
   "metadata": {},
   "outputs": [],
   "source": [
    "import cartopy.crs as ccrs\n",
    "import matplotlib.pyplot as plt\n",
    "\n",
    "ax = plt.subplot(111, projection=ccrs.PlateCarree())\n",
    "# pcolormesh does not handle NaNs, requires masked array\n",
    "mask_ma = np.ma.masked_invalid(mask)\n",
    "\n",
    "h = ax.pcolormesh(lon_edges, lat_edges, mask_ma, transform=ccrs.PlateCarree(), cmap='viridis')\n",
    "\n",
    "ax.coastlines()\n",
    "\n",
    "plt.colorbar(h, orientation='horizontal', pad=0.04);"
   ]
  },
  {
   "cell_type": "markdown",
   "metadata": {},
   "source": [
    "Finally the `mask` can now be used to mask out all data that is not in a specific region."
   ]
  },
  {
   "cell_type": "code",
   "execution_count": null,
   "metadata": {},
   "outputs": [],
   "source": [
    "# create random data\n",
    "data = np.random.randn(*lat.shape + lon.shape)\n",
    "\n",
    "# only retain data in the Central Europe\n",
    "data_ceu = np.ma.masked_where(mask != 12, data)"
   ]
  },
  {
   "cell_type": "markdown",
   "metadata": {},
   "source": [
    "Plot the selected data"
   ]
  },
  {
   "cell_type": "code",
   "execution_count": null,
   "metadata": {},
   "outputs": [],
   "source": [
    "# load cartopy\n",
    "import cartopy.crs as ccrs\n",
    "\n",
    "# choose a good projection for regional maps\n",
    "proj=ccrs.LambertConformal(central_longitude=15)\n",
    "\n",
    "# plot the outline of the central European region\n",
    "ax = regionmask.defined_regions.srex.plot(regions=12, add_ocean=False, resolution='50m',\n",
    "                          proj=proj, add_label=False)\n",
    "\n",
    "ax.pcolormesh(lon_edges, lat_edges, data_ceu, transform=ccrs.PlateCarree())\n",
    "\n",
    "# fine tune the extent\n",
    "ax.set_extent([-15, 45, 40, 65], crs=ccrs.PlateCarree())"
   ]
  },
  {
   "cell_type": "markdown",
   "metadata": {},
   "source": [
    "Finally we can obtain the region mean:"
   ]
  },
  {
   "cell_type": "code",
   "execution_count": null,
   "metadata": {},
   "outputs": [],
   "source": [
    "print('Global mean:   ', np.mean(data))\n",
    "print('Central Europe:', np.mean(data_ceu))"
   ]
  },
  {
   "cell_type": "markdown",
   "metadata": {},
   "source": [
    "## Create a mask with a different lon/ lat grid\n",
    "\n",
    "The interesting thing of `gridmask` is that you can use any lon/ lat grid."
   ]
  },
  {
   "cell_type": "markdown",
   "metadata": {},
   "source": [
    "Use a 5° x 5° grid:"
   ]
  },
  {
   "cell_type": "code",
   "execution_count": null,
   "metadata": {},
   "outputs": [],
   "source": [
    "# define a longitude latitude grid\n",
    "lon5 = np.arange(-177.5, 180, 5)\n",
    "lat5 = np.arange(-87.5, 90, 5)\n",
    "\n",
    "# for the plotting\n",
    "lon5_edges = np.arange(-180, 181, 5)\n",
    "lat5_edges = np.arange(-90, 91, 5)\n",
    "\n",
    "mask5_deg = regionmask.defined_regions.srex.mask(lon5, lat5, xarray=False)"
   ]
  },
  {
   "cell_type": "code",
   "execution_count": null,
   "metadata": {},
   "outputs": [],
   "source": [
    "ax = plt.subplot(111, projection=ccrs.PlateCarree())\n",
    "# pcolormesh does not handle NaNs, requires masked array\n",
    "mask5_ma = np.ma.masked_invalid(mask5_deg)\n",
    "\n",
    "h = ax.pcolormesh(lon5_edges, lat5_edges, mask5_ma, transform=ccrs.PlateCarree(), cmap='viridis')\n",
    "\n",
    "ax.coastlines()\n",
    "\n",
    "plt.colorbar(h, orientation='horizontal', pad=0.04);"
   ]
  },
  {
   "cell_type": "markdown",
   "metadata": {},
   "source": [
    "Now the grid cells are much larger."
   ]
  }
 ],
 "metadata": {
  "kernelspec": {
   "display_name": "Python 3",
   "language": "python",
   "name": "python3"
  },
  "language_info": {
   "codemirror_mode": {
    "name": "ipython",
    "version": 3
   },
   "file_extension": ".py",
   "mimetype": "text/x-python",
   "name": "python",
   "nbconvert_exporter": "python",
   "pygments_lexer": "ipython3",
   "version": "3.7.3"
  }
 },
 "nbformat": 4,
 "nbformat_minor": 1
}
