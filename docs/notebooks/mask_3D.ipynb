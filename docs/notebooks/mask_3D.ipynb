{
 "cells": [
  {
   "cell_type": "code",
   "execution_count": null,
   "metadata": {},
   "outputs": [],
   "source": [
    "%matplotlib inline\n",
    "%config InlineBackend.figure_format = \"retina\"\n",
    "\n",
    "from matplotlib import rcParams\n",
    "\n",
    "rcParams[\"savefig.dpi\"] = 200\n",
    "rcParams[\"font.size\"] = 8\n",
    "\n",
    "import warnings\n",
    "\n",
    "warnings.filterwarnings(\"ignore\")"
   ]
  },
  {
   "cell_type": "markdown",
   "metadata": {},
   "source": [
    "# Create 3D region masks\n",
    "\n",
    "In this tutorial we will show how to create 3D boolean masks for arbitrary latitude and longitude grids. It uses the same algorithm to determine if a gridpoint is in a region as for the 2D mask. However, it returns a `xarray.Dataset` with shape `region x lat x lon`, gridpoints that do not fall in a region are `False`, the gridpoints that fall in a region are `True`."
   ]
  },
  {
   "cell_type": "markdown",
   "metadata": {},
   "source": [
    "Import regionmask and check the version:"
   ]
  },
  {
   "cell_type": "code",
   "execution_count": null,
   "metadata": {},
   "outputs": [],
   "source": [
    "import regionmask\n",
    "\n",
    "regionmask.__version__"
   ]
  },
  {
   "cell_type": "markdown",
   "metadata": {},
   "source": [
    "Load xarray and numpy:"
   ]
  },
  {
   "cell_type": "code",
   "execution_count": null,
   "metadata": {},
   "outputs": [],
   "source": [
    "import xarray as xr\n",
    "import numpy as np"
   ]
  },
  {
   "cell_type": "markdown",
   "metadata": {},
   "source": [
    "## Creating a mask\n",
    "\n",
    "We define a lon/ lat grid with a 1° grid spacing, where the points define the center of the grid."
   ]
  },
  {
   "cell_type": "code",
   "execution_count": null,
   "metadata": {},
   "outputs": [],
   "source": [
    "lon = np.arange(-179.5, 180)\n",
    "lat = np.arange(-89.5, 90)"
   ]
  },
  {
   "cell_type": "markdown",
   "metadata": {},
   "source": [
    "We create a mask with the SREX regions (Seneviratne et al., 2012)."
   ]
  },
  {
   "cell_type": "code",
   "execution_count": null,
   "metadata": {},
   "outputs": [],
   "source": [
    "regionmask.defined_regions.srex"
   ]
  },
  {
   "cell_type": "markdown",
   "metadata": {},
   "source": [
    "The function `mask_3D` determines which gripoints lie within the polygon making up the each region:"
   ]
  },
  {
   "cell_type": "code",
   "execution_count": null,
   "metadata": {},
   "outputs": [],
   "source": [
    "mask = regionmask.defined_regions.srex.mask_3D(lon, lat)\n",
    "mask"
   ]
  },
  {
   "cell_type": "markdown",
   "metadata": {},
   "source": [
    "As mentioned, `mask` is a boolean `xarray.Dataset` with shape `region x lat x lon`. It contains `region` as dimension coordinate and `abbrev` and `name` as non-dimension coordinates (see the xarray docs for the details on the [terminology](http://xarray.pydata.org/en/stable/terminology.html)). The four first layers look as follows:"
   ]
  },
  {
   "cell_type": "code",
   "execution_count": null,
   "metadata": {},
   "outputs": [],
   "source": [
    "import cartopy.crs as ccrs\n",
    "import matplotlib.pyplot as plt\n",
    "from matplotlib import colors as mplc\n",
    "\n",
    "cmap1 = mplc.ListedColormap([\"none\", \"#9ecae1\"])\n",
    "\n",
    "fg = mask.isel(region=slice(4)).plot(\n",
    "    subplot_kws=dict(projection=ccrs.PlateCarree()),\n",
    "    col=\"region\",\n",
    "    col_wrap=2,\n",
    "    transform=ccrs.PlateCarree(),\n",
    "    add_colorbar=False,\n",
    "    aspect=1.5,\n",
    "    cmap=cmap1,\n",
    ")\n",
    "\n",
    "for ax in fg.axes.flatten():\n",
    "    ax.coastlines()\n",
    "\n",
    "fg.fig.subplots_adjust(hspace=0, wspace=0.1);"
   ]
  },
  {
   "cell_type": "markdown",
   "metadata": {},
   "source": [
    "## Working with a 3D mask\n",
    "\n",
    "masks can be used to select data in a certain region and to calculate regional averages - let's illustrate this with a 'real' dataset:"
   ]
  },
  {
   "cell_type": "code",
   "execution_count": null,
   "metadata": {},
   "outputs": [],
   "source": [
    "airtemps = xr.tutorial.load_dataset(\"air_temperature\")"
   ]
  },
  {
   "cell_type": "markdown",
   "metadata": {},
   "source": [
    "The example data is a temperature field over North America. Let's plot the first time step:"
   ]
  },
  {
   "cell_type": "code",
   "execution_count": null,
   "metadata": {},
   "outputs": [],
   "source": [
    "# choose a good projection for regional maps\n",
    "proj = ccrs.LambertConformal(central_longitude=-100)\n",
    "\n",
    "ax = plt.subplot(111, projection=proj)\n",
    "\n",
    "airtemps.isel(time=1).air.plot.pcolormesh(ax=ax, transform=ccrs.PlateCarree())\n",
    "\n",
    "ax.coastlines();"
   ]
  },
  {
   "cell_type": "markdown",
   "metadata": {},
   "source": [
    "An xarray object can be passed to the `mask_3D` function:"
   ]
  },
  {
   "cell_type": "code",
   "execution_count": null,
   "metadata": {},
   "outputs": [],
   "source": [
    "mask_full = regionmask.defined_regions.srex.mask_3D(airtemps)\n",
    "mask_full"
   ]
  },
  {
   "cell_type": "markdown",
   "metadata": {},
   "source": [
    "Per default this creates a `mask` containing one layer for each individual region - even if no gridpoint is contained in this region (all points are `False`). As the example data only has values over Northern America most layers will only contain `False`. To only obtain those layers containing (at least) one gridpoint specify `drop=True`:"
   ]
  },
  {
   "cell_type": "code",
   "execution_count": null,
   "metadata": {},
   "outputs": [],
   "source": [
    "mask_drop = regionmask.defined_regions.srex.mask_3D(airtemps, drop=True)\n",
    "mask_drop"
   ]
  },
  {
   "cell_type": "markdown",
   "metadata": {},
   "source": [
    "Note how there are only 6 layers."
   ]
  },
  {
   "cell_type": "markdown",
   "metadata": {},
   "source": [
    "### Calculate weighted regional averages"
   ]
  },
  {
   "cell_type": "markdown",
   "metadata": {},
   "source": [
    "Using the 3-dimensional mask it is possible to calculate weighted averages of all regions in one go, using the `weighted` method (requires xarray 0.15.1 or later). As proxy of the grid cell area we use `cos(lat)`:"
   ]
  },
  {
   "cell_type": "code",
   "execution_count": null,
   "metadata": {},
   "outputs": [],
   "source": [
    "weights = np.cos(np.deg2rad(airtemps.lat))\n",
    "\n",
    "ts_airtemps_regional = airtemps.weighted(mask_drop * weights).mean(dim=(\"lat\", \"lon\"))\n",
    "ts_airtemps_regional"
   ]
  },
  {
   "cell_type": "markdown",
   "metadata": {},
   "source": [
    "The regionally-averaged time series can be plotted:"
   ]
  },
  {
   "cell_type": "code",
   "execution_count": null,
   "metadata": {},
   "outputs": [],
   "source": [
    "ts_airtemps_regional.air.plot(col=\"region\", col_wrap=3);"
   ]
  },
  {
   "cell_type": "markdown",
   "metadata": {},
   "source": [
    "### Restrict the mask to land points\n",
    "\n",
    "Combining the mask of the regions with a land-sea mask we can create a land-only mask. We use the `natural_earth.land_110` regions to create a land-sea mask:"
   ]
  },
  {
   "cell_type": "code",
   "execution_count": null,
   "metadata": {},
   "outputs": [],
   "source": [
    "land_110 = regionmask.defined_regions.natural_earth.land_110\n",
    "\n",
    "land_sea_mask = land_110.mask_3D(airtemps)"
   ]
  },
  {
   "cell_type": "markdown",
   "metadata": {},
   "source": [
    "and plot it"
   ]
  },
  {
   "cell_type": "code",
   "execution_count": null,
   "metadata": {},
   "outputs": [],
   "source": [
    "proj = ccrs.LambertConformal(central_longitude=-100)\n",
    "\n",
    "ax = plt.subplot(111, projection=proj)\n",
    "\n",
    "land_sea_mask.squeeze().plot.pcolormesh(\n",
    "    ax=ax, transform=ccrs.PlateCarree(), cmap=cmap1, add_colorbar=False\n",
    ")\n",
    "\n",
    "ax.coastlines();"
   ]
  },
  {
   "cell_type": "markdown",
   "metadata": {},
   "source": [
    "To create the combined mask we multiply the two:"
   ]
  },
  {
   "cell_type": "code",
   "execution_count": null,
   "metadata": {},
   "outputs": [],
   "source": [
    "mask_lsm = mask_drop * land_sea_mask.squeeze(drop=True)"
   ]
  },
  {
   "cell_type": "markdown",
   "metadata": {},
   "source": [
    "Note the `squeeze(drop=True)`. This is required to remove the regions dimension from `land_sea_mask`.\n",
    "\n",
    "Finally we compare the original mask with the one restricted to land points:"
   ]
  },
  {
   "cell_type": "code",
   "execution_count": null,
   "metadata": {},
   "outputs": [],
   "source": [
    "f, axes = plt.subplots(1, 2, subplot_kw=dict(projection=proj))\n",
    "\n",
    "\n",
    "ax = axes[0]\n",
    "mask_drop.sel(region=2).plot(\n",
    "    ax=ax, transform=ccrs.PlateCarree(), add_colorbar=False, cmap=cmap1\n",
    ")\n",
    "ax.coastlines()\n",
    "ax.set_title(\"Regional mask: all points\")\n",
    "\n",
    "ax = axes[1]\n",
    "mask_lsm.sel(region=2).plot(\n",
    "    ax=ax, transform=ccrs.PlateCarree(), add_colorbar=False, cmap=cmap1\n",
    ")\n",
    "ax.coastlines()\n",
    "ax.set_title(\"Regional mask: land only\");"
   ]
  },
  {
   "cell_type": "markdown",
   "metadata": {},
   "source": [
    "## References\n",
    "\n",
    "* Special Report on Managing the Risks of Extreme Events and Disasters to Advance Climate Change Adaptation (SREX, Seneviratne et al., 2012: https://www.ipcc.ch/site/assets/uploads/2018/03/SREX-Ch3-Supplement_FINAL-1.pdf)"
   ]
  },
  {
   "cell_type": "code",
   "execution_count": null,
   "metadata": {},
   "outputs": [],
   "source": []
  }
 ],
 "metadata": {
  "kernelspec": {
   "display_name": "Python 3",
   "language": "python",
   "name": "python3"
  },
  "language_info": {
   "codemirror_mode": {
    "name": "ipython",
    "version": 3
   },
   "file_extension": ".py",
   "mimetype": "text/x-python",
   "name": "python",
   "nbconvert_exporter": "python",
   "pygments_lexer": "ipython3",
   "version": "3.7.6"
  }
 },
 "nbformat": 4,
 "nbformat_minor": 1
}
